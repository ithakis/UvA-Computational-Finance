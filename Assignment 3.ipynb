{
 "cells": [
  {
   "cell_type": "code",
   "execution_count": null,
   "metadata": {},
   "outputs": [],
   "source": [
    "import numpy as np\n",
    "import pandas as pd\n",
    "from numba import njit, jit\n",
    "\n",
    "from math import log, sqrt, pi, exp, erf, ceil, floor\n",
    "from scipy.stats import norm, pearsonr\n",
    "from scipy.stats.mstats import gmean\n",
    "\n",
    "from matplotlib import pyplot as plt\n",
    "from tqdm import tqdm, trange\n",
    "from time import perf_counter\n",
    "import gc\n",
    "\n",
    "import numpy as np\n",
    "import matplotlib.pyplot as plt\n",
    "import matplotlib.animation as animation\n",
    "from matplotlib.animation import FuncAnimation\n",
    "\n",
    "\"\"\" Plt font size \"\"\"\n",
    "plt.rcParams['font.size'] = '13'"
   ]
  },
  {
   "cell_type": "markdown",
   "metadata": {
    "collapsed": false
   },
   "source": [
    "# Code from Example"
   ]
  },
  {
   "cell_type": "code",
   "execution_count": null,
   "metadata": {
    "pycharm": {
     "name": "#%%\n"
    }
   },
   "outputs": [],
   "source": [
    "def initialize_grid(max_iter_time, plate_length, boundary_value):\n",
    "\n",
    "    # Initialize solution: the grid of u(k, i, j)\n",
    "    u = np.empty((max_iter_time, plate_length, plate_length))\n",
    "\n",
    "    # Initial condition everywhere inside the grid\n",
    "    u_initial = 0.0\n",
    "\n",
    "    # Boundary conditions (fixed temperature)\n",
    "    u_top = boundary_value\n",
    "    u_left = 0.0\n",
    "    u_bottom = 0.0\n",
    "    u_right = 0.0\n",
    "\n",
    "    # Set the initial condition\n",
    "    u.fill(u_initial)\n",
    "\n",
    "    # Set the boundary conditions\n",
    "    u[:, (plate_length-1):, :] = u_top\n",
    "    u[:, :, :1] = u_left\n",
    "    u[:, :1, 1:] = u_bottom\n",
    "    u[:, :, (plate_length-1):] = u_right\n",
    "\n",
    "\n",
    "    print(\"\\nInitial 2-D grid in spatial dimension for time snapshot t=0 is listed below\\n\")\n",
    "    print(u[0,:,:])\n",
    "    return u"
   ]
  },
  {
   "cell_type": "code",
   "execution_count": null,
   "metadata": {
    "pycharm": {
     "name": "#%%\n"
    }
   },
   "outputs": [],
   "source": [
    "#Initialize plate length and max time iterations\n",
    "\n",
    "plate_length = 50\n",
    "max_iter_time = 500\n",
    "boundary_value = 100\n",
    "\n",
    "initial_grid = initialize_grid(max_iter_time, plate_length, boundary_value)\n",
    "\n",
    "alpha = 2.0\n",
    "delta_x = 1\n",
    "\n",
    "# Calculated params (\\Delta t should obey the FTCS condition for stability)\n",
    "delta_t = (delta_x ** 2)/(4 * alpha)\n",
    "print(\"\\nUsing a timestep size of \\Delta t = \", delta_t)\n",
    "gamma = (alpha * delta_t) / (delta_x ** 2)"
   ]
  },
  {
   "cell_type": "code",
   "execution_count": null,
   "metadata": {
    "pycharm": {
     "name": "#%%\n"
    }
   },
   "outputs": [],
   "source": [
    "# Calculate u iteratively on the grid based on the equation derived above\n",
    "\n",
    "def calculate(u):\n",
    "    for k in range(0, max_iter_time-1, 1):\n",
    "        for i in range(1, plate_length-1, delta_x):\n",
    "            for j in range(1, plate_length-1, delta_x):\n",
    "                u[k + 1, i, j] = gamma * (u[k][i+1][j] + u[k][i-1][j] + u[k][i][j+1] + u[k][i][j-1] - 4*u[k][i][j]) + u[k][i][j]\n",
    "\n",
    "    return u"
   ]
  },
  {
   "cell_type": "code",
   "execution_count": null,
   "metadata": {
    "pycharm": {
     "name": "#%%\n"
    }
   },
   "outputs": [],
   "source": [
    "def plotheatmap(u_k, k):\n",
    "  # Clear the current plot figure\n",
    "    plt.clf()\n",
    "    plt.title(f\"Temperature at t = {k*delta_t:.3f} unit time\")\n",
    "    plt.xlabel(\"x\")\n",
    "    plt.ylabel(\"y\")\n",
    "\n",
    "    # This is to plot u_k (u at time-step k)\n",
    "    plt.pcolormesh(u_k, cmap=plt.cm.jet, vmin=0, vmax=100)\n",
    "    plt.colorbar()\n",
    "    return plt"
   ]
  },
  {
   "cell_type": "code",
   "execution_count": null,
   "metadata": {
    "pycharm": {
     "name": "#%%\n"
    }
   },
   "outputs": [],
   "source": [
    "# Calculate final grid\n",
    "final_grid = calculate(initial_grid)\n",
    "\n",
    "# Plot the animation for the solution in time steps\n",
    "\n",
    "def animate(k):\n",
    "    plotheatmap(final_grid[k], k)\n",
    "\n",
    "\n",
    "anim = animation.FuncAnimation(plt.figure(), animate, interval=1,frames=max_iter_time, repeat=False)\n",
    "# anim.save(\"heat_equation_solution.gif\")\n",
    "anim"
   ]
  },
  {
   "cell_type": "markdown",
   "metadata": {
    "collapsed": false
   },
   "source": [
    "# Code 0:"
   ]
  },
  {
   "cell_type": "code",
   "execution_count": null,
   "metadata": {
    "pycharm": {
     "name": "#%%\n"
    }
   },
   "outputs": [],
   "source": [
    "import numpy as np\n",
    "import scipy.sparse\n",
    "import matplotlib.pyplot as plt\n",
    "from mpl_toolkits.mplot3d import Axes3D\n",
    "\n",
    "def bottom_boundary_condition(K,T,S_min, r, t):\n",
    "    return np.zeros(t.shape)\n",
    "\n",
    "def top_boundary_condition(K,T,S_max, r, t):\n",
    "    return S_max-np.exp(-r*(T-t))*K\n",
    "\n",
    "def final_boundary_condition(K,T,S):\n",
    "    return np.maximum(S-K,0)"
   ]
  },
  {
   "cell_type": "code",
   "execution_count": null,
   "metadata": {
    "pycharm": {
     "name": "#%%\n"
    }
   },
   "outputs": [],
   "source": [
    "def compute_abc( K, T, sigma, r, S, dt, dS ):\n",
    "    # a = .5 *\n",
    "    a = -sigma**2 * S**2/(2* dS**2 ) + r*S/(2*dS)\n",
    "    b = r + sigma**2 * S**2/(dS**2)\n",
    "    c = -sigma**2 * S**2/(2* dS**2 ) - r*S/(2*dS)\n",
    "    return a,b,c\n",
    "\n",
    "def compute_lambda( a,b,c ):\n",
    "    return scipy.sparse.diags( [a[1:],b,c[:-1]],offsets=[-1,0,1])\n",
    "\n",
    "def compute_W(a,b,c, V0, VM):\n",
    "    M = len(b)+1\n",
    "    W = np.zeros(M-1)\n",
    "    W[0] = a[0]*V0\n",
    "    W[-1] = c[-1]*VM\n",
    "    return W"
   ]
  },
  {
   "cell_type": "code",
   "execution_count": null,
   "metadata": {
    "pycharm": {
     "name": "#%%\n"
    }
   },
   "outputs": [],
   "source": [
    "from numpy import log as ln\n",
    "def price_call_explicit( K, T, r, sigma, N, M):\n",
    "    \"\"\"\"\n",
    "    N: Time Steps\n",
    "    M: Price Steps\n",
    "    \"\"\"\n",
    "    # Choose the shape of the grid\n",
    "    dt = T/N\n",
    "    S_min = 0\n",
    "    S_max = K*np.exp(8*sigma*np.sqrt(T))\n",
    "    dS = (S_max-S_min)/M\n",
    "    S = np.linspace(S_min,S_max,M+1)  # convert to log space\n",
    "    # print(S)\n",
    "\n",
    "    t = np.linspace(0,T,N+1)\n",
    "    V = np.zeros((N+1,M+1)) #...\n",
    "\n",
    "    # Set the boundary conditions\n",
    "    V[:,-1] = top_boundary_condition(K,T,S_max,r,t)\n",
    "    V[:,0]  = bottom_boundary_condition(K,T,S_max,r,t)\n",
    "    V[-1,:] = final_boundary_condition(K,T,S)\n",
    "\n",
    "    # Apply the recurrence relation\n",
    "    a,b,c  = compute_abc(K,T,sigma,r,S[1:-1],dt,dS)\n",
    "    # print(a, b, c)\n",
    "    Lambda = compute_lambda( a,b,c)\n",
    "    print(Lambda.toarray())\n",
    "    identity = scipy.sparse.identity(M-1)\n",
    "\n",
    "    for i in range(N,0,-1):\n",
    "        W = compute_W(a, b, c, V[i,0], V[i,M])\n",
    "        # print(W, \"\\n\")  #  ;   break\n",
    "\n",
    "        # Use `dot` to multiply a vector by a sparse matrix\n",
    "        V[i-1,1:M] = (identity-Lambda*dt).dot( V[i,1:M] ) - W*dt\n",
    "\n",
    "    return V, t, S"
   ]
  },
  {
   "cell_type": "code",
   "execution_count": null,
   "metadata": {
    "pycharm": {
     "name": "#%%\n"
    }
   },
   "outputs": [],
   "source": [
    "V, t, S = price_call_explicit( K=99, T=1., r=.05, sigma=.2, N=10, M=10)\n",
    "V"
   ]
  },
  {
   "cell_type": "code",
   "execution_count": null,
   "metadata": {
    "pycharm": {
     "name": "#%%\n"
    }
   },
   "outputs": [],
   "source": [
    "S_, T_, V_ = [], [], []\n",
    "for _row in range(V.shape[0]):\n",
    "    for _column in range(V.shape[1]):\n",
    "        S_.append(S[_column])\n",
    "        T_.append(t[_row])\n",
    "        V_.append(V[_row, _column])\n",
    "\n",
    "S_, T_, V_ = np.array(S_), np.array(T_), np.array(V_)\n",
    "S_.shape, T_.shape, V_.shape\n"
   ]
  },
  {
   "cell_type": "code",
   "execution_count": null,
   "metadata": {
    "pycharm": {
     "name": "#%%\n"
    }
   },
   "outputs": [],
   "source": [
    "\"\"\" Getting Option Values from V \"\"\"\n",
    "# 1st Dimension = t\n",
    "# 2nd Dimension = S value\n",
    "# So to get the Value of an Option at t=0 for about ~100 : Based on the S vector\n",
    "\n",
    "\"\"\" Get Value \"\"\"\n",
    "# V[0, 10]\n",
    "S_, T_, V_"
   ]
  },
  {
   "cell_type": "code",
   "execution_count": null,
   "metadata": {
    "pycharm": {
     "name": "#%%\n"
    }
   },
   "outputs": [],
   "source": [
    "t"
   ]
  },
  {
   "cell_type": "code",
   "execution_count": null,
   "metadata": {
    "pycharm": {
     "name": "#%%\n"
    }
   },
   "outputs": [],
   "source": [
    "S"
   ]
  },
  {
   "cell_type": "code",
   "execution_count": null,
   "metadata": {
    "pycharm": {
     "name": "#%%\n"
    }
   },
   "outputs": [],
   "source": [
    "# gc.collect()\n",
    "\"\"\" 3D Graph \"\"\"\n",
    "plt.rcParams['font.size'] = '15'\n",
    "\n",
    "fig = plt.figure(figsize=(15,12))\n",
    "ax = plt.axes(projection='3d')\n",
    "ax.plot_trisurf(T_, S_, V_, cmap='viridis', edgecolor='none')  # 'viridis' , cm.jet\n",
    "\n",
    "# plt.xticks(plt.xticks()[0][1:-1], [f'{10**x*100:.2f}' for x in plt.xticks()[0][1:-1]])\n",
    "\n",
    "ax.set_ylabel('\\n\\nStock Value (USD)')   ;   ax.set_xlabel('\\n\\n Time (t) Years')   ;   ax.set_zlabel('\\n\\n\\nOption Value (USD)')\n",
    "# ax.dist = 10\n",
    "ax.set_title(\"Option Value for Different Parameters\")\n"
   ]
  },
  {
   "cell_type": "markdown",
   "metadata": {
    "collapsed": false
   },
   "source": [
    "# Code 0.1"
   ]
  },
  {
   "cell_type": "code",
   "execution_count": null,
   "metadata": {
    "pycharm": {
     "name": "#%%\n"
    }
   },
   "outputs": [],
   "source": [
    "%matplotlib inline\n",
    "# import numpy\n",
    "import matplotlib.pyplot as pyplot\n",
    "from matplotlib import rcParams\n",
    "rcParams['figure.dpi'] = 100\n",
    "rcParams['font.size'] = 16\n",
    "rcParams['font.family'] = 'StixGeneral'\n",
    "\n",
    "T = 1.       # expiry time\n",
    "r = 0.06        # no-risk interest rate\n",
    "sigma = 0.2    # volatility of underlying asset\n",
    "E = 99.        # exercise price\n",
    "S_max = 4*E    # upper bound of price of the stock (4*E)"
   ]
  },
  {
   "cell_type": "code",
   "execution_count": null,
   "metadata": {
    "pycharm": {
     "name": "#%%\n"
    }
   },
   "outputs": [],
   "source": [
    "def FTCS(C, N, M, dt, r, sigma):\n",
    "    \"\"\"using forward-time central-space scheme to solve the Black-Scholes equation for the call option price\n",
    "\n",
    "    Arguments:\n",
    "        C:       array of the price of call option\n",
    "        N:       total number of time steps\n",
    "        M:       total number of spatials grids\n",
    "        dt:      time step\n",
    "        r:       no-risk interest rate\n",
    "        sigma:   volatility of the stock\n",
    "\n",
    "    Returns:\n",
    "        C:       array of the price of call option\n",
    "    \"\"\"\n",
    "    index = np.arange(1,M)\n",
    "    for n in range(N):\n",
    "\n",
    "        C[1:-1] = 0.5 * (sigma**2 * index**2 * dt - r*index*dt) * C[0:-2] \\\n",
    "             +       (1 - sigma**2* index**2 *dt - r*dt) * C[1:-1]   \\\n",
    "             + 0.5 * (sigma**2 * index**2 * dt + r*index*dt) * C[2:]\n",
    "    return C\n",
    "\n",
    "# def FTCS_2(C, N, M, dt, r, sigma):\n",
    "M, dt, r, sigma = 10, .1, .05, .2\n",
    "index = np.arange(1,M)\n",
    "\n",
    "B = np.zeros((M,M), dtype=float)\n",
    "C = np.zeros((M,M), dtype=float)\n",
    "for m in range(M):\n",
    "    \"\"\" B - forward \"\"\"\n",
    "    B[m, m] = 1 - (1 - sigma**2* m**2 *dt - r*dt)\n",
    "    if m > 0 :\n",
    "        B[m-1, m] = - 0.5 * (sigma**2 * m**2 * dt + r*m*dt)\n",
    "    if m != M - 1:\n",
    "        B[m+1, m] = - 0.5 * (sigma**2 * m**2 * dt - r*m*dt)\n",
    "    \n",
    "    \"\"\" C - current \"\"\"\n",
    "    C[m, m] = 1 + (1 - sigma**2* m**2 *dt - r*dt)\n",
    "    if m > 0 :\n",
    "        C[m-1, m] = + 0.5 * (sigma**2 * m**2 * dt + r*m*dt)\n",
    "    if m != M - 1:\n",
    "        C[m+1, m] = + 0.5 * (sigma**2 * m**2 * dt - r*m*dt)\n",
    "    \n",
    "    \n",
    "    \n",
    "# B = np.arange(1,17).reshape((4,4))\n",
    "# B[1,0]\n",
    "\n",
    "B\n",
    "C\n",
    "\n",
    "# \"\"\"\n",
    "#     a = 0.5 * (sigma**2 * index**2 * dt - r*index*dt)\n",
    "#     B = (1 - sigma**2* index**2 *dt - r*dt)\n",
    "#     C = 0.5 * (sigma**2 * index**2 * dt + r*index*dt)\n",
    "# \"\"\"\n",
    "\n",
    "# for n in range(N):\n"
   ]
  },
  {
   "cell_type": "code",
   "execution_count": null,
   "metadata": {
    "pycharm": {
     "name": "#%%\n"
    }
   },
   "outputs": [],
   "source": [
    "N = 2000       # number of time steps\n",
    "M = 200        # number of space grids\n",
    "dt = T/N       # time step\n",
    "s = np.linspace(0, S_max, M+1)   # spatial grid (stock's price)\n",
    "\n",
    "# initial condition & boundary condition\n",
    "C = s - E\n",
    "C = np.clip(C, 0, S_max-E)"
   ]
  },
  {
   "cell_type": "code",
   "execution_count": null,
   "metadata": {
    "pycharm": {
     "name": "#%%\n"
    }
   },
   "outputs": [],
   "source": [
    "C_exp = FTCS(C, N, M, dt, r, sigma)\n",
    "print('the price of the call option should be around {}, \\\n",
    "if the current price of stock is 20 dollar.'.format(C_exp[int(M/2)]))"
   ]
  },
  {
   "cell_type": "code",
   "execution_count": null,
   "metadata": {
    "pycharm": {
     "name": "#%%\n"
    }
   },
   "outputs": [],
   "source": [
    "C_exp"
   ]
  },
  {
   "cell_type": "code",
   "execution_count": null,
   "metadata": {
    "pycharm": {
     "name": "#%%\n"
    }
   },
   "outputs": [],
   "source": []
  }
 ],
 "metadata": {
  "kernelspec": {
   "display_name": "Python 3",
   "language": "python",
   "name": "python3"
  },
  "language_info": {
   "codemirror_mode": {
    "name": "ipython",
    "version": 2
   },
   "file_extension": ".py",
   "mimetype": "text/x-python",
   "name": "python",
   "nbconvert_exporter": "python",
   "pygments_lexer": "ipython2",
   "version": "2.7.6"
  }
 },
 "nbformat": 4,
 "nbformat_minor": 0
}