{
 "cells": [
  {
   "cell_type": "code",
   "execution_count": null,
   "metadata": {},
   "outputs": [],
   "source": [
    "import numpy as np\n",
    "import pandas as pd\n",
    "from numba import njit, jit\n",
    "\n",
    "from math import log, sqrt, pi, exp, erf, ceil, floor\n",
    "from scipy.stats import norm, pearsonr\n",
    "from scipy.stats.mstats import gmean\n",
    "\n",
    "from matplotlib import pyplot as plt\n",
    "from tqdm import tqdm, trange\n",
    "from time import perf_counter\n",
    "import gc\n",
    "\n",
    "\"\"\" Plt font size \"\"\"\n",
    "plt.rcParams['font.size'] = '13'"
   ]
  },
  {
   "cell_type": "markdown",
   "metadata": {},
   "source": [
    "Time per 10,000 samples = 3.09 sec"
   ]
  },
  {
   "cell_type": "markdown",
   "metadata": {},
   "source": [
    "# Part 1"
   ]
  },
  {
   "cell_type": "code",
   "execution_count": null,
   "metadata": {
    "pycharm": {
     "name": "#%%\n"
    }
   },
   "outputs": [],
   "source": [
    "\"\"\" Euler's Method \"\"\"\n",
    "def gbm_euler(S0, r, sigma, T, M, path_simulation=False):\n",
    "    zm = norm.rvs(loc=0., scale=1, size=M)\n",
    "    dt = T / M\n",
    "    Sm = np.zeros((M+1, 2), dtype=float)   ;   Sm[0, 0] = S0\n",
    "    for m in range(1, M+1):\n",
    "        Sm[m, 0] = Sm[m-1, 0] + r*Sm[m-1, 0]*dt + sigma*Sm[m-1, 0]*sqrt(dt)*zm[m-1]\n",
    "        Sm[m, 1] = m * dt\n",
    "    if path_simulation:\n",
    "        return Sm\n",
    "    return Sm[-1,0]"
   ]
  },
  {
   "cell_type": "code",
   "execution_count": null,
   "metadata": {
    "pycharm": {
     "name": "#%%\n"
    }
   },
   "outputs": [],
   "source": [
    "\"\"\" Geometric Brownian Motion - St Simulation\"\"\"\n",
    "S0 = 100\n",
    "sigma = .20\n",
    "r = 0.06\n",
    "T = 1.\n",
    "M = 253\n",
    "output = gbm_euler(S0, r, sigma, T, M, path_simulation=True)\n",
    "\n",
    "temp_output = pd.DataFrame(output, columns=['St', 'Time'])\n",
    "temp_output = temp_output.set_index('Time')\n",
    "temp_output.plot(figsize=(20,4), grid=True, title=\"Simulated Stock Movement Using Geometric Brownian Motion\", ylabel=\"Stock Price\", label=f'Euler Method M={M}')"
   ]
  },
  {
   "cell_type": "markdown",
   "metadata": {},
   "source": [
    "----------------------------------------------------------------------------------------------------------------------------------------------------------------\n",
    "## Payoff Distribution and Convergence for Different Number of Paths (M)"
   ]
  },
  {
   "cell_type": "code",
   "execution_count": null,
   "metadata": {
    "pycharm": {
     "name": "#%%\n"
    }
   },
   "outputs": [],
   "source": [
    "simulations = 100_000\n",
    "payoff_dist = np.empty(simulations)\n",
    "for inx in trange(simulations):\n",
    "    K = 99 ; N = 254\n",
    "    payoff_dist[inx] = max(K- gbm_euler(S0, r, sigma, T, N), 0)\n",
    "\n",
    "print(f'Probability of tbe option expiring in the Money = {payoff_dist[payoff_dist > 0].shape[0] / simulations *100:.5f} %')\n",
    "print(f'Expected Payoff = {payoff_dist.mean()*np.exp(-r*T):.5f} EUR \\nStandard Deviation of E(Payoff) = {payoff_dist.std():.5f} EUR')\n",
    "ax = pd.DataFrame(payoff_dist[payoff_dist>0], columns=['Payoff']).plot(kind='hist', bins=1000, density=True, figsize=(20,4), grid=True, title=\"Distribution of Positive Payoffs\")\n",
    "ax.set_xlabel('Payoff of Put Option (EUR)')"
   ]
  },
  {
   "cell_type": "code",
   "execution_count": null,
   "metadata": {
    "pycharm": {
     "name": "#%%\n"
    }
   },
   "outputs": [],
   "source": [
    "\"\"\" Bootstrapping Technique \"\"\"\n",
    "def bootstrapping(M, K = 99, sigma = 0.2, SE_report=False):\n",
    "    def _gbm_euler(S0, r, sigma, T, M, zm):\n",
    "        dt = T / M\n",
    "        Sm = np.zeros((M+1), dtype=float)   ;   Sm[0] = S0\n",
    "        for m in range(1, M+1):\n",
    "            Sm[m] = Sm[m-1] + r*Sm[m-1]*dt + sigma*Sm[m-1]*sqrt(dt)*zm[m-1]\n",
    "        return Sm[-1]\n",
    "\n",
    "    S0 = 100\n",
    "    # sigma = .20\n",
    "    r = 0.06\n",
    "    T = 1.\n",
    "    N = 254\n",
    "\n",
    "    # K = 99\n",
    "\n",
    "    M = np.sqrt(M).astype(int)   ;   bootstrap_trials = M\n",
    "\n",
    "    _results = - np.ones((M, bootstrap_trials))\n",
    "    for b_trial in range(bootstrap_trials):\n",
    "        zm = np.random.normal(loc=0., scale=1, size=(N, ceil(M/2)))\n",
    "        zm = np.concatenate((zm, -zm[:,:floor(M/2)]), axis=1)  ;  \"\"\" Antithetic Variable \"\"\"\n",
    "        for _inx in range(M):\n",
    "            _results[_inx, b_trial] = max(K- _gbm_euler(S0, r, sigma, T, N, zm[:, _inx]), 0) * np.exp(-r*T)\n",
    "\n",
    "    if SE_report:\n",
    "        return np.mean(_results, axis=0).std() / np.sqrt(_results.shape[1])\n",
    "    return np.mean(_results, axis=0).mean(), np.mean(_results, axis=0).std() / np.sqrt(_results.shape[1])"
   ]
  },
  {
   "cell_type": "code",
   "execution_count": null,
   "metadata": {
    "pycharm": {
     "name": "#%%\n"
    }
   },
   "outputs": [],
   "source": [
    "start_M = 10    ;   end_M = 1_000_000 ;   points_in_graph = 30\n",
    "\n",
    "M_values = np.logspace(start=np.log10(start_M), stop=np.log10(end_M), num=points_in_graph, base=10)\n",
    "\n",
    "\"\"\" Creates a DataFrame to fill with values \"\"\"\n",
    "results_convergence_df = pd.DataFrame(np.zeros((points_in_graph, 2)), index=M_values , columns=['Expected Payoff - Put Option', 'Standard Error'])\n",
    "results_convergence_df.index.name = 'Number of Paths (M)'\n",
    "\n",
    "for M in tqdm(M_values):\n",
    "    results_convergence_df.loc[M, :] = bootstrapping(M) # returns: mean, SE\n",
    "\n",
    "results_convergence_df"
   ]
  },
  {
   "cell_type": "code",
   "execution_count": null,
   "metadata": {
    "pycharm": {
     "name": "#%%\n"
    }
   },
   "outputs": [],
   "source": [
    "BS_analytical_solution = 4.778969051891707\n",
    "print(f'Expected Payoff = {(results_convergence_df.iloc[-1, 0] - BS_analytical_solution)/BS_analytical_solution * 100:.5f} %')\n",
    "print(f'Percentage Difference from Analytical Solution = {(results_convergence_df.iloc[-1, 0] - BS_analytical_solution)/BS_analytical_solution * 100:.5f} %')"
   ]
  },
  {
   "cell_type": "code",
   "execution_count": null,
   "metadata": {
    "pycharm": {
     "name": "#%%\n"
    }
   },
   "outputs": [],
   "source": [
    "axs = results_convergence_df.plot(figsize=(20,8), grid=True, title='Convergence of Mean Payoff with number of Paths Simulated', subplots=True, logx=True)\n",
    "axs[0].set_ylabel('Payoff (EUR)')\n",
    "axs[0].axhline(4.778969051891707, color='r', linestyle='-', alpha=.5, label='Analytical Solution using BS') ;   axs[0].legend()\n",
    "\n",
    "axs[1].plot(M_values, [ 6/np.sqrt(_m_value)  for _m_value in M_values], label=r'$f(M) = c/\\sqrt{M}, c \\approx 6$')    ;   axs[1].legend()\n",
    "\n",
    "axs[1].set_yscale('log')\n",
    "axs[1].set_ylabel('Standard Error (SE)')"
   ]
  },
  {
   "cell_type": "markdown",
   "metadata": {},
   "source": [
    "## Different MC Implementation Approaches\n",
    "> Vanilla MC - 100,000 samples\n",
    "Mean = 4.757270\n",
    "Standard Error = 0.025220\n",
    "\n",
    "> Bootstrapping Results with and without Antithetic (AT) VR - with 100,000 samples and sqrt(samples) df\n",
    "------ Without AT ------\n",
    "Mean = 4.7845864899592705\n",
    "Standard Error = 0.026560446487301444\n",
    "------ With AT ------\n",
    "Mean = 4.764542084945663\n",
    "Standard Error = 0.020000435977867624"
   ]
  },
  {
   "cell_type": "markdown",
   "metadata": {},
   "source": [
    "----------------------------------------------------------------------------------------------------------------------------------------------------------------\n",
    "## Strike Price Graph"
   ]
  },
  {
   "cell_type": "code",
   "execution_count": null,
   "metadata": {
    "pycharm": {
     "name": "#%%\n"
    }
   },
   "outputs": [],
   "source": [
    "M = 100_000 ;   size_of_graph = 40 ;   start_x = 1  ;   end_x = 200\n",
    "\n",
    "K_values = np.linspace(start_x, end_x, size_of_graph, dtype=int)\n",
    "\n",
    "\"\"\" Creates a DataFrame to fill with values \"\"\"\n",
    "results_k_df = pd.DataFrame(np.zeros((size_of_graph, 3)), index=K_values , columns=['Expected Payoff - Put Option', 'Standard Error (SE)', 'Relative Standard Error (RSE)'])\n",
    "results_k_df.index.name = 'Strike Price (EUR)'\n",
    "\n",
    "for K in tqdm(K_values):\n",
    "    _m, _se = bootstrapping(M, K=K)\n",
    "    results_k_df.loc[K] = (_m, _se, _se/_m *100.) if _m!= 0 else np.nan\n",
    "\n",
    "results_k_df"
   ]
  },
  {
   "cell_type": "code",
   "execution_count": null,
   "metadata": {
    "pycharm": {
     "name": "#%%\n"
    }
   },
   "outputs": [],
   "source": [
    "axs = results_k_df.plot(figsize=(20,10), grid=True, title='Standard Error and Relative Error for Different Strike Prices', subplots=True)\n",
    "axs[0].set_ylabel('Payoff (EUR)')   ;   axs[1].set_ylabel('Standard Error')   ;   axs[2].set_ylabel('RSE')\n",
    "axs[2].set_yscale('log')\n",
    "\n",
    "axs[0].axvline(100, color='r', linestyle='-', alpha=.5, label=r'$S_0$')\n",
    "axs[0].axvline(100*np.exp(.06), color='g', linestyle='-', alpha=.5, label=r'$S_0*e^{rT}$') ;   axs[0].legend()\n",
    "axs[1].axvline(100, color='r', linestyle='-', alpha=.5, label=r'$S_0$')\n",
    "axs[1].axvline(100*np.exp(.06), color='g', linestyle='-', alpha=.5, label=r'$S_0*e^{rT}$') ;   axs[1].legend()\n",
    "axs[2].axvline(100, color='r', linestyle='-', alpha=.5, label=r'$S_0$')\n",
    "axs[2].axvline(100*np.exp(.06), color='g', linestyle='-', alpha=.5, label=r'$S_0*e^{rT}$') ;   axs[2].legend()\n",
    "\n",
    "plt.legend()"
   ]
  },
  {
   "cell_type": "markdown",
   "metadata": {},
   "source": [
    "----------------------------------------------------------------------------------------------------------------------------------------------------------------\n",
    "## Volatility Graph"
   ]
  },
  {
   "cell_type": "code",
   "execution_count": null,
   "metadata": {
    "pycharm": {
     "name": "#%%\n"
    }
   },
   "outputs": [],
   "source": [
    "M = 100_000 ;   size_of_graph = 40 ;   start_v = .01  ;   end_v = 10\n",
    "\n",
    "V_values = np.logspace(np.log10(start_v), np.log10(end_v), size_of_graph)\n",
    "\n",
    "\"\"\" Creates a DataFrame to fill with values \"\"\"\n",
    "results_V_df = pd.DataFrame(np.zeros((size_of_graph, 3)), index=np.log10(V_values) , columns=['Expected Payoff - Put Option', 'Standard Error (SE)', 'Relative Standard Error (RSE)'])\n",
    "results_V_df.index.name = 'Realized Volatility (σ)'\n",
    "\n",
    "for V in tqdm(V_values):\n",
    "    _m, _se = bootstrapping(M, sigma=V)\n",
    "    results_V_df.loc[np.log10(V)] = (_m, _se, _se/_m *100) #  if _m > 0 else 0\n",
    "\n",
    "results_V_df"
   ]
  },
  {
   "cell_type": "code",
   "execution_count": null,
   "metadata": {
    "pycharm": {
     "name": "#%%\n"
    }
   },
   "outputs": [],
   "source": [
    "axs = results_V_df.plot(figsize=(20,10), grid=True, title='Standard Error and Relative Error for Different Volatility Levels', subplots=True) #, xticks=V_values)\n",
    "axs[0].set_ylabel('Payoff (EUR)')   ;   axs[1].set_ylabel('Standard Error')   ;   axs[2].set_ylabel('RSE (%)')\n",
    "axs[2].set_yscale('log')\n",
    "axs[0].axhline(99, color='r', linestyle='-', alpha=.5, label='Strike Value - 99 EUR') ;   axs[0].legend()\n",
    "\n",
    "plt.xticks(plt.xticks()[0][1:-1], [f'{10**x:.2f}' for x in plt.xticks()[0][1:-1]])"
   ]
  },
  {
   "cell_type": "markdown",
   "metadata": {},
   "source": [
    "## 3D Plot - Strike Price / Volatility"
   ]
  },
  {
   "cell_type": "code",
   "execution_count": null,
   "metadata": {
    "pycharm": {
     "name": "#%%\n"
    }
   },
   "outputs": [],
   "source": [
    "import multiprocessing\n",
    "from joblib import Parallel, delayed\n",
    "\n",
    "\"\"\" Simulation Parameters \"\"\"\n",
    "M = 100_000    ;    total_points = 900  ;    print(f'Total Paths Calculated (M) = {M*total_points}')# points should be [2500, 900]\n",
    "\n",
    "start_sigma = 0.01  ;   end_sigma = 20\n",
    "start_K = 1  ;   end_K = 200\n",
    "\n",
    "\"\"\" Prepare Input \"\"\"\n",
    "size_of_graph = np.sqrt(total_points).astype(int)   # points should be [2500, 900]\n",
    "V_values = np.logspace(np.log10(start_sigma), np.log10(end_sigma), size_of_graph, base=10)\n",
    "# V_values = np.linspace(start_sigma, end_sigma, size_of_graph)\n",
    "K_values = np.linspace(start_K, end_K, size_of_graph, dtype=int)\n",
    "\n",
    "input_matrix = np.empty((0, 2))\n",
    "for sigma in V_values:\n",
    "    for K in K_values:\n",
    "        input_matrix = np.append(input_matrix, np.array([[sigma, K]]), axis=0)\n",
    "\n",
    "inputs = tqdm(input_matrix)\n",
    "\n",
    "\n",
    "\"\"\" Define function that calculates \"\"\"\n",
    "def simulate(input_matrix):\n",
    "    \"\"\" X \"\"\"\n",
    "    # x = np.log10(input_matrix[0])\n",
    "    \"\"\" Y \"\"\"\n",
    "    # y = input_matrix[1]\n",
    "    \"\"\" Z \"\"\"\n",
    "    _m, _se = bootstrapping(M, sigma=input_matrix[0], K=input_matrix[1])\n",
    "    _r = (_se  /_m *100) if _m!= 0 else 0\n",
    "    return np.array([np.log10(input_matrix[0]), input_matrix[1], _r])\n",
    "\n",
    "\n",
    "\"\"\" Run Parallel Simulation \"\"\"\n",
    "num_cores = multiprocessing.cpu_count()\n",
    "temp_output = Parallel(n_jobs=num_cores)(delayed(simulate)(row) for row in inputs)\n",
    "\"\"\" Revert back to matrix form\"\"\"\n",
    "# print(temp_output)\n",
    "result_3D = np.empty((0, 3))\n",
    "for array in temp_output:\n",
    "    result_3D = np.append(result_3D, [array], axis=0)"
   ]
  },
  {
   "cell_type": "code",
   "execution_count": null,
   "metadata": {
    "pycharm": {
     "name": "#%%\n"
    }
   },
   "outputs": [],
   "source": [
    "import matplotlib.ticker as mticker\n",
    "from matplotlib import cm\n",
    "fig = plt.figure(figsize=(15,12))\n",
    "ax = plt.axes(projection='3d')\n",
    "ax.plot_trisurf(result_3D[:, 0], result_3D[:, 1], np.log10(result_3D[:, 2]), cmap=cm.jet, linewidth=0.2)\n",
    "\n",
    "def log_tick_formatter(val, pos=None):\n",
    "    return r\"$10^{:.0f}$\".format(val)\n",
    "\n",
    "ax.zaxis.set_major_formatter(mticker.FuncFormatter(log_tick_formatter))\n",
    "\n",
    "plt.xticks(plt.xticks()[0][1:-1], [f'{10**x:.2f}' for x in plt.xticks()[0][1:-1]])\n",
    "\n",
    "ax.set_ylabel('Strike Price (EUR)')   ;   ax.set_xlabel('Volatility')   ;   ax.set_zlabel('RSE (%)')\n",
    "ax.set_title(\"RSE for Different Strike Price and Volatility Levels\")"
   ]
  },
  {
   "cell_type": "markdown",
   "metadata": {},
   "source": [
    "_________________________________________________________________________________________________________________________________________________\n",
    "# Part 2\n",
    "## Question 1 - MC for European Put"
   ]
  },
  {
   "cell_type": "code",
   "execution_count": null,
   "metadata": {
    "pycharm": {
     "name": "#%%\n"
    }
   },
   "outputs": [],
   "source": [
    "\"\"\" Analytical Result - Black Scholes \"\"\"\n",
    "def bs_call(S, K, T, sigma, r):\n",
    "    d1 = (log(S/K) + (r + sigma**2/2.) * T) / (sigma*sqrt(T))\n",
    "    d2 = d1 - sigma * sqrt(T)\n",
    "\n",
    "    # V = S*norm.cdf(d1) -K*exp(-r*T)*norm.cdf(d2)\n",
    "    # D = norm.cdf(d1)\n",
    "    D = (1.0 + erf(d1 / sqrt(2.0))) / 2.0\n",
    "    V = S*D  -K*exp(-r*T)* (1.0 + erf(d2 / sqrt(2.0))) / 2.0\n",
    "\n",
    "    return V, D\n",
    "\n",
    "def bs_put(S, K, T, sigma, r):\n",
    "    d1 = (log(S/K)+(r+sigma**2/2.)*T)/(sigma*sqrt(T))\n",
    "    d2 = d1 - sigma*sqrt(T)\n",
    "\n",
    "    \"\"\" negative in front - negative in front of d1 \"\"\"\n",
    "    D = - (1.0 + erf(-d1 / sqrt(2.0))) / 2.0\n",
    "    V = S*D + K*exp(-r*T)* (1.0 + erf(-d2 / sqrt(2.0))) / 2.0\n",
    "\n",
    "    return V, D"
   ]
  },
  {
   "cell_type": "code",
   "execution_count": null,
   "metadata": {
    "pycharm": {
     "name": "#%%\n"
    }
   },
   "outputs": [],
   "source": [
    "\"\"\" Monte Carlo Method of Approximating the Value of a Call Option \"\"\"\n",
    "def call_option_MC(S0=100, K=99, T=1., sigma=.2, r=.06, M=10_000, seed=None):\n",
    "    def _gbm_euler(S0, r, sigma, T, M, zm):\n",
    "        dt = T / M\n",
    "        Sm = np.zeros((M+1), dtype=float)   ;   Sm[0] = S0\n",
    "        for m in range(1, M+1):\n",
    "            Sm[m] = Sm[m-1] + r*Sm[m-1]*dt + sigma*Sm[m-1]*sqrt(dt)*zm[m-1]\n",
    "        return Sm[-1]\n",
    "\n",
    "    epsilon = 1\n",
    "    N = 252 # trading days in a year\n",
    "    M = np.sqrt(M).astype(int)\n",
    "\n",
    "    \"\"\" Create the IID Random Normal Variables : For GBM Simulation \"\"\"\n",
    "    np.random.seed(seed=seed)\n",
    "    zm1 = np.random.normal(loc=0., scale=1, size=(N, M, M))\n",
    "    np.random.seed(seed=seed)\n",
    "    zm2 = np.random.normal(loc=0., scale=1, size=(N, M, M))\n",
    "    _results = - np.ones((M, M))    ;   _results_2 = - np.ones((M, M))\n",
    "    for _M1 in range(M):\n",
    "        for _M2 in range(M):\n",
    "            _results[_M1, _M2] = max(K- _gbm_euler(S0, r, sigma, T, N, zm1[:, _M1, _M2]), 0) * np.exp(-r*T)\n",
    "            \"\"\" Bump and Revalue Method of Calculating Delta \"\"\"\n",
    "            _results_2[_M1, _M2] = max(K- _gbm_euler(S0+epsilon, r, sigma, T, N, zm2[:, _M1, _M2]), 0) * np.exp(-r*T)\n",
    "\n",
    "    Vs = _results    ;   Vs_2 = _results_2\n",
    "    Ds = (Vs_2 - Vs) / epsilon\n",
    "\n",
    "    SE_V = np.mean(Vs, axis=0).std() / np.sqrt(_results.shape[1])\n",
    "    SE_D = np.mean(Ds, axis=0).std() / np.sqrt(Ds.shape[1])\n",
    "    return Vs.mean(), SE_V, Ds.mean(), SE_D\n",
    "\n",
    "# 10_000  = -0.3171157567818145 , e=1\n",
    "# 100_000 = -0.35178048916918736 , e=1\n",
    "# 10_000  = -0.32440869426635943 , e=.1\n",
    "# 100_000 = -0.32476038600091583, , e=.1\n",
    "# call_option_MC(S0=S0, K=K, T=T, sigma=sigma, r=r ,M=100_000, seed=21)"
   ]
  },
  {
   "cell_type": "markdown",
   "metadata": {
    "collapsed": false
   },
   "source": [
    "### Results: Table --> Payoff and Delta for Vanilla MC w/o and w/ seed"
   ]
  },
  {
   "cell_type": "code",
   "execution_count": null,
   "metadata": {
    "pycharm": {
     "name": "#%%\n"
    }
   },
   "outputs": [],
   "source": [
    "M_values = 10**np.array([2, 3, 4, 5])  # number of paths to simulate\n",
    "_column_names = ['E[Payoff of Put Option]', 'Standard Error', 'Payoff Difference with BS', 'Delta', 'Delta Difference with BS Delta']\n",
    "S0, K, T, sigma, r = (100, 99, 1., .2, .06)\n",
    "\n",
    "\"\"\" Get Analytical Results \"\"\"\n",
    "V_bs, D_bs = bs_put(S0, K, T, sigma, r)    ;   print(f'>>> Analytical Solution (V,D) = {V_bs:.5f} , {D_bs:.5f}')\n",
    "\n",
    "\"\"\" Calculate the Effect of M and using and not using a seed \"\"\"\n",
    "results_no_seed_df = pd.DataFrame(np.empty((M_values.shape[0],5)), index=M_values, columns=_column_names)\n",
    "results_with_seed_df = pd.DataFrame(np.empty((M_values.shape[0],5)), index=M_values, columns=_column_names)\n",
    "for _M in tqdm(M_values):\n",
    "    _r_without = call_option_MC(S0=S0, K=K, T=T, sigma=sigma, r=r ,M=_M, seed=None)\n",
    "    results_no_seed_df.loc[_M] = [_r_without[0], _r_without[1], _r_without[0]-V_bs, _r_without[2], _r_without[2]-D_bs]\n",
    "\n",
    "    _r_with = call_option_MC(S0=S0, K=K, T=T, sigma=sigma, r=r ,M=_M, seed=21)\n",
    "    results_with_seed_df.loc[_M] = [_r_with[0], _r_with[1], _r_with[0]-V_bs, _r_with[2], _r_with[2]-D_bs]"
   ]
  },
  {
   "cell_type": "code",
   "execution_count": null,
   "metadata": {
    "pycharm": {
     "name": "#%%\n"
    }
   },
   "outputs": [],
   "source": [
    "print('>>> Results when using random seed for the creation of the IDD Random Variables for the GBM')\n",
    "results_no_seed_df"
   ]
  },
  {
   "cell_type": "code",
   "execution_count": null,
   "metadata": {
    "pycharm": {
     "name": "#%%\n"
    }
   },
   "outputs": [],
   "source": [
    "print('>>> Results when using predefined seed for the creation of the IDD Random Variables for the GBM')\n",
    "results_with_seed_df"
   ]
  },
  {
   "cell_type": "code",
   "execution_count": null,
   "metadata": {
    "pycharm": {
     "name": "#%%\n"
    }
   },
   "outputs": [],
   "source": [
    "S0, K, T, sigma, r = (100, 99, 1., .2, .06)\n",
    "V_bs, D_bs = bs_put(S0, K, T, sigma, r)\n",
    "\n",
    "_M_array = 5*np.logspace(1, 4, 20, base=10, dtype=int)\n",
    "results_num_steps = pd.DataFrame(np.empty((_M_array.shape[0],2)), index=_M_array, columns=['Payoff Difference with BS', 'Delta Difference with BS Delta'])\n",
    "for _M in tqdm(_M_array):\n",
    "    _r = call_option_MC(S0=S0, K=K, T=T, sigma=sigma, M=_M, seed=None)\n",
    "    results_num_steps.loc[_M] = [_r[0]-V_bs, _r[2]-D_bs]\n",
    "\n",
    "results_num_steps.plot(figsize=(20,6), xlabel=\"N (Steps)\", ylabel='Difference with Black-Scholes', title=\"Accuracy of MC Approximation\", grid=True, logx=True, subplots=True)\n",
    "results_num_steps"
   ]
  },
  {
   "cell_type": "code",
   "execution_count": null,
   "metadata": {
    "pycharm": {
     "name": "#%%\n"
    }
   },
   "outputs": [],
   "source": [
    "________________________________________________________________________________________________________________________________________________________________________\n",
    "## Question 2 - Digital Option"
   ]
  },
  {
   "cell_type": "code",
   "execution_count": null,
   "metadata": {
    "pycharm": {
     "name": "#%%\n"
    }
   },
   "outputs": [],
   "source": [
    "from numpy import log as ln\n",
    "\"\"\" Analytical Solution Digital Option \"\"\"\n",
    "def digital_call_valuation_analytical(S, K, T, sigma, r):\n",
    "    Q = 1  # Amount to be delivered at Expiration date if in the money\n",
    "\n",
    "    d2 = (ln(S/K) + (r - 0.5 * sigma**2) * T) / (sigma * sqrt(T))\n",
    "\n",
    "    V = Q * np.exp(-r*T) * norm.cdf(d2)\n",
    "    D = (np.exp(-r*T)*norm.pdf(d2)) / (S*sigma*np.sqrt(T))\n",
    "    return V, D\n",
    "\n",
    "def digital_put_valuation_analytical(S, K, T, sigma, r):\n",
    "    Q = 1  # Amount to be delivered at Expiration date if in the money\n",
    "\n",
    "    d2 = (ln(S/K) + (r - 0.5 * sigma**2) * T) / (sigma * sqrt(T))\n",
    "\n",
    "    V = Q * np.exp(-r*T) * norm.cdf(-d2)\n",
    "    D = -(np.exp(-r*T)*norm.pdf(-d2)) / (S*sigma*np.sqrt(T))\n",
    "    return V, D\n",
    "\n",
    "print('Digital Call (V, D):', digital_call_valuation_analytical(100, 99, 1., .2, .06))\n",
    "print('Digital Put (V, D):', digital_put_valuation_analytical(100, 99, 1., .2, .06))"
   ]
  },
  {
   "cell_type": "code",
   "execution_count": null,
   "metadata": {
    "pycharm": {
     "name": "#%%\n"
    }
   },
   "outputs": [],
   "source": [
    "\"\"\" Simple - MC Method for Approximating the Value of a Digital Call Option \"\"\"\n",
    "def digital_call_option_MC(S0=100, K=99, T=1., sigma=.2, r=.06, M=10_000, seed=None):\n",
    "    def _gbm_euler(S0, r, sigma, T, M, zm):\n",
    "        dt = T / M\n",
    "        Sm = np.zeros((M+1), dtype=float)   ;   Sm[0] = S0\n",
    "        for m in range(1, M+1):\n",
    "            Sm[m] = Sm[m-1] + r*Sm[m-1]*dt + sigma*Sm[m-1]*sqrt(dt)*zm[m-1]\n",
    "        return Sm[-1]\n",
    "\n",
    "    epsilon = 0.1\n",
    "    N = 252 # trading days in a year\n",
    "    M = np.sqrt(M).astype(int)\n",
    "\n",
    "    \"\"\" Create the IID Random Normal Variables : For GBM Simulation \"\"\"\n",
    "    np.random.seed(seed=seed)\n",
    "    zm = np.random.normal(loc=0., scale=1, size=(N, M, M))\n",
    "\n",
    "    _results = - np.ones((M, M))\n",
    "    _results_2 = - np.ones((M, M))\n",
    "    for b_trial in range(M):\n",
    "        for _inx in range(M):\n",
    "            x1 = _gbm_euler(S0, r, sigma, T, N, zm[:, _inx, b_trial]) - K\n",
    "            \"\"\" Bump and Revalue Method of Calculating Delta \"\"\"\n",
    "            x2 = _gbm_euler(S0+epsilon, r, sigma, T, N, zm[:, _inx, b_trial]) - K\n",
    "            _results[_inx, b_trial] = 1 if x1 > 0 else 0\n",
    "            _results_2[_inx, b_trial] = 1 if x2 > 0 else 0\n",
    "    _option_value = np.exp(-r*T)*_results.mean()    ;   _option_value_2 = np.exp(-r*T)*_results_2.mean()\n",
    "\n",
    "    delta = (_option_value_2 - _option_value) / epsilon\n",
    "\n",
    "    SE = np.mean(_results, axis=0).std() / np.sqrt(_results.shape[1])\n",
    "    return _option_value, SE, delta"
   ]
  },
  {
   "cell_type": "markdown",
   "metadata": {
    "collapsed": false
   },
   "source": [
    "### Vanilla MC Results"
   ]
  },
  {
   "cell_type": "code",
   "execution_count": null,
   "metadata": {
    "pycharm": {
     "name": "#%%\n"
    }
   },
   "outputs": [],
   "source": [
    "M_values = 10**np.array([2, 3, 4, 5])  # number of paths to simulate\n",
    "_column_names = ['E[Payoff of Digital Call Option]', 'Standard Error', 'Payoff Difference with BS', 'Delta', 'Delta Difference with BS Delta']\n",
    "S0, K, T, sigma, r = (100, 99, 1., .2, .06)\n",
    "\n",
    "\"\"\" Get Analytical Results \"\"\"\n",
    "V_bs_digital, D_bs_digital = digital_call_valuation_analytical(S0, K, T, sigma, r)    ;   print(f'>>> Analytical Solution (V,D) = {V_bs_digital:.5f} , {D_bs_digital:.5f}')\n",
    "\n",
    "\"\"\" Calculate the Effect of M and using and not using a seed \"\"\"\n",
    "results_B = pd.DataFrame(np.empty((M_values.shape[0],5)), index=M_values, columns=_column_names)\n",
    "for M in tqdm(M_values):\n",
    "    _r_without = digital_call_option_MC(S0=S0, K=K, T=T, sigma=sigma, r=r, M=M, seed=None)\n",
    "    results_B.loc[M] = [_r_without[0], _r_without[1], _r_without[0]-V_bs_digital, _r_without[2], _r_without[2]-D_bs_digital]"
   ]
  },
  {
   "cell_type": "code",
   "execution_count": null,
   "metadata": {
    "pycharm": {
     "name": "#%%\n"
    }
   },
   "outputs": [],
   "source": [
    "results_B"
   ]
  },
  {
   "cell_type": "markdown",
   "metadata": {
    "collapsed": false
   },
   "source": [
    "### Pathwise Method of approximating Delta"
   ]
  },
  {
   "cell_type": "code",
   "execution_count": null,
   "metadata": {
    "pycharm": {
     "name": "#%%\n"
    }
   },
   "outputs": [],
   "source": [
    "\"\"\" Pathwise - MC Method for Approximating the Value of a Digital Call Option \"\"\"\n",
    "def digital_call_option_MC_PW(S0=100, K=99, T=1., sigma=.2, r=.06, M=10_000, seed=None, _coef=0):\n",
    "    if not _coef: _coef = 8\n",
    "    def _gbm_exact(S0, r, sigma, T, M, zm):\n",
    "        dt = T / M\n",
    "        Sm = np.zeros((M+1), dtype=float)   ;   Sm[0] = S0\n",
    "        for m in range(1, M+1):\n",
    "            Sm[m] = Sm[m-1] + r*Sm[m-1]*dt + sigma*Sm[m-1]*sqrt(dt)*zm[m-1]\n",
    "        return Sm[-1]\n",
    "\n",
    "    _coefficient_limit = 700/(10*_coef) # to avoid overflow error in the exponential function inside the smoothing function\n",
    "    N = 252 # trading days in a year\n",
    "    M = np.sqrt(M).astype(int)\n",
    "\n",
    "    \"\"\" Create the IID Random Normal Variables : For GBM Simulation \"\"\"\n",
    "    np.random.seed(seed=seed)\n",
    "    zm = np.random.normal(loc=0., scale=1, size=(N, M, M))\n",
    "\n",
    "    _results = - np.empty((M, M, 2))\n",
    "    for _M1 in range(M):\n",
    "        for _M2 in range(M):\n",
    "            _St = _gbm_exact(S0, r, sigma, T, N, zm[:, _M1, _M2])   ;   _payoff = _St - K\n",
    "            if -_coefficient_limit < _payoff < _coefficient_limit:\n",
    "                _results[_M1, _M2, 0] = 1 / (1 + np.exp(-_coef *_payoff))\n",
    "                _results[_M1, _M2, 1] = (_coef * np.exp(_coef * _payoff)) / (np.exp(_coef *_payoff) + 1)**2 # Path Wise Approximation of Delta\n",
    "            else:\n",
    "                _results[_M1, _M2, 0] = 1 if _payoff > 0 else 0\n",
    "                _results[_M1, _M2, 1] = 0\n",
    "\n",
    "    _option_value = np.exp(-r*T) * _results[:,:,0].mean()  #\n",
    "    delta = np.exp(-r*T) * _results[:,:,1].mean()\n",
    "\n",
    "    SE_V = np.mean(_results[:, :, 0], axis=0).std() / np.sqrt(_results.shape[1])\n",
    "    SE_D = np.mean(_results[:, :, 1], axis=0).std() / np.sqrt(_results.shape[1])\n",
    "    return _option_value, SE_V, delta, SE_D"
   ]
  },
  {
   "cell_type": "code",
   "execution_count": null,
   "metadata": {
    "pycharm": {
     "name": "#%%\n"
    }
   },
   "outputs": [],
   "source": [
    "\"\"\" Plot Sigmoid \"\"\"\n",
    "x = np.linspace(-5, 5, num=100)\n",
    "y1 = [1 / (1+np.exp(-x)) for x in x]\n",
    "y2 = [1 / (1+np.exp(-2*x)) for x in x]\n",
    "y5 = [1 / (1+np.exp(-5*x)) for x in x]\n",
    "y10 = [1 / (1+np.exp(-10*x)) for x in x]\n",
    "_dict = {\"c = 1\" : y1, \"c = 2\" : y2, \"c = 5\" : y5, \"c = 10\" : y10}\n",
    "\n",
    "pd.DataFrame(_dict, index=x).plot(figsize=(15,4), title=\"Sigmoid Function used to Smooth a Digital's Option Payoff\", xlabel=r\"Stock Price at T minus Strike price ($S_T - K$)\", ylabel=\"Option Payoff\", grid=True)"
   ]
  },
  {
   "cell_type": "markdown",
   "metadata": {
    "collapsed": false
   },
   "source": [
    "### Tuning the slope of the binary option - sigmoid \"coefficient\""
   ]
  },
  {
   "cell_type": "code",
   "execution_count": null,
   "metadata": {
    "pycharm": {
     "name": "#%%\n"
    }
   },
   "outputs": [],
   "source": [
    "digital_call_analytical = digital_call_valuation_analytical(100, 99, 1., .2, .06)\n",
    "\n",
    "size = 50\n",
    "results_sigmoid_coefficient = np.empty((size, 3))\n",
    "for _index, _c in tqdm(enumerate(np.linspace(-4, 5, num=size)), total=size):\n",
    "    _r = digital_call_option_MC_PW(seed=None, _coef=10**_c, M=10_000)\n",
    "    results_sigmoid_coefficient[_index, 0] = 10**_c\n",
    "    results_sigmoid_coefficient[_index, 1] = _r[0] - digital_call_analytical[0]\n",
    "    results_sigmoid_coefficient[_index, 2] = _r[2] - digital_call_analytical[1]\n",
    "\n",
    "axs = pd.DataFrame(results_sigmoid_coefficient[:, 1:], index=results_sigmoid_coefficient[:, 0], columns=['Difference with Analytical Value', 'Difference with Analytical Delta']).plot(figsize=(20,6), xlabel=\"Sigmoid Coefficient\", ylabel='Difference with BS', title=\"Optimizing Sigmoid Slope for Binary Options - Pathwise\", grid=True, logx=True, subplots=True)\n",
    "axs[0].axhline(0, color='r', linestyle='-', alpha=.5)   ;   axs[1].axhline(0, color='r', linestyle='-', alpha=.5)\n",
    "results_sigmoid_coefficient"
   ]
  },
  {
   "cell_type": "markdown",
   "metadata": {
    "collapsed": false
   },
   "source": [
    "### Likelihood Ratio"
   ]
  },
  {
   "cell_type": "code",
   "execution_count": null,
   "metadata": {
    "pycharm": {
     "name": "#%%\n"
    }
   },
   "outputs": [],
   "source": [
    "\"\"\" Pathwise - MC Method for Approximating the Value of a Digital Call Option \"\"\"\n",
    "def digital_call_option_MC_LH(S0=100, K=99, T=1., sigma=.2, r=.06, M=10_000, seed=None):\n",
    "    def _gbm_exact(S0, r, sigma, T, M, zm):\n",
    "        dt = T / M\n",
    "        Sm = np.zeros((M+1), dtype=float)   ;   Sm[0] = S0\n",
    "        for m in range(1, M+1):\n",
    "            Sm[m] = Sm[m-1] + r*Sm[m-1]*dt + sigma*Sm[m-1]*sqrt(dt)*zm[m-1]\n",
    "        return Sm[-1]\n",
    "\n",
    "    N = 252 # trading days in a year\n",
    "    M = np.sqrt(M).astype(int)\n",
    "\n",
    "    \"\"\" Create the IID Random Normal Variables : For GBM Simulation \"\"\"\n",
    "    np.random.seed(seed=seed)\n",
    "    zm = np.random.normal(loc=0., scale=1, size=(N, M, M))\n",
    "\n",
    "    _results = - np.empty((M, M, 2))\n",
    "    for _M1 in range(M):\n",
    "        for _M2 in range(M):\n",
    "            _St = _gbm_exact(S0, r, sigma, T, N, zm[:, _M1, _M2])\n",
    "            _payoff = 1 if _St > K else 0\n",
    "            _results[_M1, _M2, 0] = _payoff\n",
    "            _results[_M1, _M2, 1] = _payoff * (np.log( _St / S0 ) - (r - 0.5 * sigma**2) * T) / (S0 * sigma**2 * T)\n",
    "\n",
    "    _option_value = np.exp(-r*T) * _results[:,:,0].mean()\n",
    "    delta = np.exp(-r*T) * _results[:,:,1].mean()\n",
    "\n",
    "    SE_V = np.mean(_results[:, :, 0], axis=0).std() / np.sqrt(_results.shape[1])\n",
    "    SE_D = np.mean(_results[:, :, 1], axis=0).std() / np.sqrt(_results.shape[1])\n",
    "    return _option_value, SE_V, delta, SE_D"
   ]
  },
  {
   "cell_type": "markdown",
   "metadata": {
    "collapsed": false
   },
   "source": [
    "### Results - Pathwise & Likelihood"
   ]
  },
  {
   "cell_type": "code",
   "execution_count": null,
   "metadata": {
    "pycharm": {
     "name": "#%%\n"
    }
   },
   "outputs": [],
   "source": [
    "\"\"\" Results -> Table \"\"\"\n",
    "M_values = 10**np.array([2, 3, 4, 5])  # number of paths to simulate\n",
    "_column_names_V = ['E[Payoff]PW', 'Standard Error', 'Payoff Difference with BS', 'E[Payoff]LH', 'Standard Error', 'Payoff Difference with BS', 'Ex Time PW', 'Ex Time LH']\n",
    "_column_names_D = ['E[Delta]PW', 'Standard Error', 'Delta Difference with BS', 'E[Delta]LH', 'Standard Error', 'Delta Difference with BS', 'Ex Time PW', 'Ex Time LH']\n",
    "S0, K, T, sigma, r = (100, 99, 1., .2, .06)\n",
    "\n",
    "\"\"\" Get Analytical Results \"\"\"\n",
    "V_bs_digital, D_bs_digital = digital_call_valuation_analytical(S0, K, T, sigma, r)    ;   print(f'>>> Analytical Solution (V,D) = {V_bs_digital:.5f} , {D_bs_digital:.5f}')\n",
    "\n",
    "\"\"\" Calculate the Effect of M and using and not using a seed \"\"\"\n",
    "V_analysis = pd.DataFrame(np.empty((M_values.shape[0],8)), index=M_values, columns=_column_names_V)\n",
    "D_analysis = pd.DataFrame(np.empty((M_values.shape[0],8)), index=M_values, columns=_column_names_D)\n",
    "for M in tqdm(M_values):\n",
    "    _st1 = perf_counter()\n",
    "    _r_pw = digital_call_option_MC_PW(S0=S0, K=K, T=T, sigma=sigma, r=r, M=M, seed=21)    ;   _et1 = perf_counter() - _st1\n",
    "\n",
    "    _st2 = perf_counter()\n",
    "    _r_lh = digital_call_option_MC_LH(S0=S0, K=K, T=T, sigma=sigma, r=r, M=M, seed=21)    ;   _et2 = perf_counter() - _st2\n",
    "\n",
    "    V_analysis.loc[M] = [_r_pw[0], _r_pw[1], _r_pw[0]-V_bs_digital,  _r_lh[0], _r_lh[1], _r_lh[0]-V_bs_digital, _et1, _et2]\n",
    "    D_analysis.loc[M] = [_r_pw[2], _r_pw[3], _r_pw[2]-D_bs_digital,  _r_lh[2], _r_lh[3], _r_lh[2]-D_bs_digital, _et1, _et2]"
   ]
  },
  {
   "cell_type": "code",
   "execution_count": null,
   "metadata": {
    "pycharm": {
     "name": "#%%\n"
    }
   },
   "outputs": [],
   "source": [
    "V_analysis"
   ]
  },
  {
   "cell_type": "code",
   "execution_count": null,
   "metadata": {
    "pycharm": {
     "name": "#%%\n"
    }
   },
   "outputs": [],
   "source": [
    "D_analysis"
   ]
  },
  {
   "cell_type": "code",
   "execution_count": null,
   "metadata": {
    "pycharm": {
     "name": "#%%\n"
    }
   },
   "outputs": [],
   "source": [
    "\"\"\" Results -> Graph \"\"\"\n",
    "M_values = np.logspace(2, 4.5, num=30, base=10)\n",
    "\n",
    "V_analysis = pd.DataFrame(np.empty((M_values.shape[0],3)), index=M_values, columns=['Vanilla MC', 'Pathwise', 'Likelihood Ratio'])\n",
    "D_analysis = pd.DataFrame(np.empty((M_values.shape[0],3)), index=M_values, columns=['Vanilla MC', 'Pathwise', 'Likelihood Ratio'])\n",
    "for _M in tqdm(M_values):\n",
    "    _r_va = digital_call_option_MC(S0=S0, K=K, T=T, sigma=sigma, r=r, M=_M, seed=1)\n",
    "    _r_pw = digital_call_option_MC_PW(S0=S0, K=K, T=T, sigma=sigma, r=r, M=_M, seed=1)\n",
    "    _r_lh = digital_call_option_MC_LH(S0=S0, K=K, T=T, sigma=sigma, r=r, M=_M, seed=1)\n",
    "\n",
    "    V_analysis.loc[_M] = [_r_va[0]-V_bs_digital, _r_pw[0]-V_bs_digital,  _r_lh[0]-V_bs_digital]\n",
    "    D_analysis.loc[_M] = [_r_va[2]-D_bs_digital, _r_pw[2]-D_bs_digital,  _r_lh[2]-D_bs_digital]"
   ]
  },
  {
   "cell_type": "code",
   "execution_count": null,
   "metadata": {
    "pycharm": {
     "name": "#%%\n"
    }
   },
   "outputs": [],
   "source": [
    "ax = V_analysis.plot(figsize=(20,4), logx=True, grid=True, title=\"Monte Carlo Vanilla vs Pathwise vs Likelihood Ratio Approach for Calculating Payoff\", xlabel='Number of Paths Simulated (M)', ylabel='Difference with Analytical Solution')\n",
    "ax.axhline(0, color='r', linestyle='-', alpha=.5)   ;   axs[1].axhline(0, color='r', linestyle='-', alpha=.5)\n",
    "# V_analysis"
   ]
  },
  {
   "cell_type": "code",
   "execution_count": null,
   "metadata": {
    "pycharm": {
     "name": "#%%\n"
    }
   },
   "outputs": [],
   "source": [
    "ax = D_analysis.plot(figsize=(20,4), logx=True, grid=True, title=\"Monte Carlo Vanilla vs Pathwise vs Likelihood Ratio Approach for Calculating Greeks\", xlabel='Number of Paths Simulated (M)', ylabel='Difference with Analytical Solution', logy=False)\n",
    "ax.axhline(0, color='r', linestyle='-', alpha=.5)   ;   axs[1].axhline(0, color='r', linestyle='-', alpha=.5)"
   ]
  },
  {
   "cell_type": "markdown",
   "metadata": {
    "collapsed": false
   },
   "source": [
    "--------------------------------------------------------------------------------------------------------------------------------------------\n",
    "# Part 3: Asian Options and Control Variets"
   ]
  },
  {
   "cell_type": "markdown",
   "metadata": {},
   "source": [
    "\"\"\" Euler's Method \"\"\"\n",
    "def gbm_euler(S0, r, sigma, T, N):\n",
    "    zm = norm.rvs(loc=0., scale=1, size=N)\n",
    "    dt = T / N\n",
    "    Sm = np.zeros(N+1, dtype=float)   ;   Sm[0] = S0\n",
    "    for m in range(1, N+1):\n",
    "        Sm[m] = Sm[m-1] + r*Sm[m-1]*dt + sigma*Sm[m-1]*sqrt(dt)*zm[m-1]\n",
    "    return Sm"
   ]
  },
  {
   "cell_type": "code",
   "execution_count": null,
   "metadata": {},
   "outputs": [],
   "source": [
    "\"\"\" Euler's Method \"\"\"\n",
    "def gbm_euler(S0, r, sigma, T, N):\n",
    "    zm = norm.rvs(loc=0., scale=1, size=N)\n",
    "    dt = T / N\n",
    "    Sm = np.zeros(N+1, dtype=float)   ;   Sm[0] = S0\n",
    "    for m in range(1, N+1):\n",
    "        Sm[m] = Sm[m-1] + r*Sm[m-1]*dt + sigma*Sm[m-1]*sqrt(dt)*zm[m-1]\n",
    "    return Sm"
   ]
  },
  {
   "cell_type": "code",
   "execution_count": null,
   "metadata": {},
   "outputs": [],
   "source": [
    "def geometric_analytical(S0, r, sigma, T, N, M, K):\n",
    "    # Define the sigma bar and r bar\n",
    "    sigma_bar = sigma * sqrt((2 * N + 1)/(6 * (N + 1)))\n",
    "    r_bar = 0.5 * (r - 0.5 * sigma **2 + sigma_bar **2)\n",
    "\n",
    "    # Define d1 and d2\n",
    "    d1 = (log(S0/K) + (r_bar + 1/2 * sigma_bar ** 2) * T)/(sigma_bar * sqrt(T))\n",
    "    d2 = d1 - (sigma_bar * sqrt(T))\n",
    "\n",
    "    # Find the analytical expression\n",
    "    analytical_value = exp(-r * T) * (S0 * exp(r_bar * T) * norm.cdf(d1) - K * norm.cdf(d2))\n",
    "\n",
    "    return analytical_value"
   ]
  },
  {
   "cell_type": "code",
   "execution_count": null,
   "metadata": {
    "pycharm": {
     "name": "#%%\n"
    }
   },
   "outputs": [],
   "source": [
    "# Geometric Monte Carlo\n",
    "def geometric_MC(S0, r, sigma, T, N, M, K):\n",
    "    mc_values_geo = np.zeros(M)\n",
    "    for m in range(M):\n",
    "        Sm = gbm_euler(S0, r, sigma, T, N)\n",
    "        \n",
    "        # Get geometric average\n",
    "        AN = gmean(Sm)\n",
    "\n",
    "        mc_values_geo[m] = max(0, AN - K)\n",
    "\n",
    "    return mc_values_geo"
   ]
  },
  {
   "cell_type": "code",
   "execution_count": null,
   "metadata": {},
   "outputs": [],
   "source": [
    "def geometric_analytical(S0, r, sigma, T, N, M, K):\n",
    "    # Define the sigma bar and r bar\n",
    "    sigma_bar = sigma * sqrt((2 * N + 1)/(6 * (N + 1)))\n",
    "    r_bar = 0.5 * (r - 0.5 * sigma **2 + sigma_bar **2)\n",
    "\n",
    "    # Define d1 and d2\n",
    "    d1 = (log(S0/K) + (r_bar + 1/2 * sigma_bar ** 2) * T)/(sigma_bar * sqrt(T))\n",
    "    d2 = d1 - (sigma_bar * sqrt(T))\n",
    "\n",
    "    # Find the analytical expression\n",
    "    analytical_value = exp(-r * T) * (S0 * exp(r_bar * T) * norm.cdf(d1) - K * norm.cdf(d2))\n",
    "\n",
    "    return analytical_value\n",
    "\n",
    "# Arithmetic Monte Carlo\n",
    "def aritmetic_MC(S0, r, sigma, T, N, M, K):\n",
    "    mc_values_arit = np.zeros(M)\n",
    "    mc_values_geo = np.zeros(M)\n",
    "    for m in range(M):\n",
    "        Sm = gbm_euler(S0, r, sigma, T, N)\n",
    "        \n",
    "        # Get arithmetic average\n",
    "        AN = Sm.mean()\n",
    "        \n",
    "        mc_values_arit[m] = max(0, AN - K)\n",
    "        \n",
    "        # Get geometric average\n",
    "        AN = gmean(Sm)\n",
    "\n",
    "        mc_values_geo[m] = max(0, AN - K)\n",
    "\n",
    "    return mc_values_arit, mc_values_geo\n",
    "\n",
    "def control_variate_est(S0, r, sigma, T, N, M, K):\n",
    "    analytical_value = geometric_analytical(S0, r, sigma, T, N, M, K)\n",
    "    mc_values_arit, mc_values_geo = MC(S0, r, sigma, T, N, M, K)\n",
    "    \n",
    "    A_arit = mc_values_arit.mean()\n",
    "    A_arit_sd = mc_values_arit.std()\n",
    "    A_geo = mc_values_geo.mean()\n",
    "    A_geo_sd = mc_values_geo.std()\n",
    "\n",
    "    # Control variate estimate Asian option\n",
    "    rho, _ = pearsonr(mc_values_geo, mc_values_arit)\n",
    "    \n",
    "    if A_geo_sd == 0:\n",
    "        beta = 0\n",
    "    else:\n",
    "        beta = (A_arit_sd / A_geo_sd) * rho\n",
    "\n",
    "    estimate = A_arit - beta * (A_geo - analytical_value)\n",
    "\n",
    "    return estimate, A_arit"
   ]
  },
  {
   "cell_type": "code",
   "execution_count": null,
   "metadata": {},
   "outputs": [],
   "source": [
    "def control_variate_est(S0, r, sigma, T, N, M, K):\n",
    "    analytical_value = geometric_analytical(S0, r, sigma, T, N, M, K)\n",
    "    #mc_values_geo = geometric_MC(S0, r, sigma, T, N, M, K)\n",
    "    mc_values_arit, mc_values_geo = aritmetic_MC(S0, r, sigma, T, N, M, K)\n",
    "    \n",
    "    A_arit = mc_values_arit.mean()\n",
    "    A_arit_sd = mc_values_arit.std()\n",
    "    A_geo = mc_values_geo.mean()\n",
    "    A_geo_sd = mc_values_geo.std()\n",
    "\n",
    "    # Control variate estimate Asian option\n",
    "#     rho = (log(A_arit) * log(A_geo)) / (2 * A_arit_sd * A_geo_sd)\n",
    "    rho, _ = pearsonr(mc_values_geo, mc_values_arit)\n",
    "    \n",
    "    if A_geo_sd == 0:\n",
    "        beta = 0\n",
    "    elif A_arit_sd == 0:\n",
    "        beta = rho\n",
    "    else:\n",
    "        beta = (A_arit_sd / A_geo_sd) * rho\n",
    "\n",
    "    estimate = A_arit - beta * (A_geo - analytical_value)\n",
    "\n",
    "    return estimate, A_arit"
   ]
  },
  {
   "cell_type": "code",
   "execution_count": null,
   "metadata": {},
   "outputs": [],
   "source": [
    "# Input parameter values\n",
    "S0 = 100\n",
    "T = 1.\n",
    "N = 50\n",
    "K = 99\n",
    "r = 0.06\n",
    "sigma = 0.2\n",
    "M = 100_000\n",
    "\n",
    "# Experiment 1: compare the control variate estimate with the MC estimate without correcting\n",
    "control_var_est, MC_arit_est = control_variate_est(S0, r, sigma, T, N, M, K)\n",
    "\n",
    "print(\"Control Variate estimate:\", control_var_est)\n",
    "print(\"MC arithmetic estimate:\", MC_arit_est)\n",
    "print(\"Difference of control variate and arithmetic MC estimates (in %):\", (control_var_est - MC_arit_est)/MC_arit_est)"
   ]
  },
  {
   "cell_type": "markdown",
   "metadata": {},
   "source": [
    "## Changing M"
   ]
  },
  {
   "cell_type": "code",
   "execution_count": null,
   "metadata": {},
   "outputs": [],
   "source": [
    "S0 = 100\n",
    "T = 1.\n",
    "N = 50\n",
    "K = 99\n",
    "r = 0.06\n",
    "sigma = 0.2\n",
    "\n",
    "num_samples = 100\n",
    "#M_values = np.linspace(100, 100_000, num=num_samples, dtype=int)\n",
    "M_values = np.logspace(start=1, stop=6, num=num_samples, base=10, dtype=int)\n",
    "print(M_values)\n",
    "\n",
    "M_estimates_c = np.zeros(num_samples)\n",
    "M_estimates_MC = np.zeros(num_samples)\n",
    "for i in tqdm(range(num_samples)):\n",
    "    M = M_values[i]\n",
    "    M_estimates_c[i], M_estimates_MC[i] = control_variate_est(S0, r, sigma, T, N, M, K)"
   ]
  },
  {
   "cell_type": "code",
   "execution_count": null,
   "metadata": {},
   "outputs": [],
   "source": [
    "print(M_estimates_c)\n",
    "print(M_estimates_MC)"
   ]
  },
  {
   "cell_type": "code",
   "execution_count": null,
   "metadata": {},
   "outputs": [],
   "source": [
    "plt.figure(figsize=(10,6), dpi=300)\n",
    "plt.plot(M_values, M_estimates_MC, label='MC Arithmetic Estimate')\n",
    "plt.plot(M_values, M_estimates_c, label='Control Variate Estimate')\n",
    "plt.xscale('log',base=10) \n",
    "plt.xlabel(\"Number of Paths Generated (M)\")\n",
    "plt.ylabel(\"Call Option Price Approximation (EUR)\")\n",
    "plt.title(\"Performance of Control Variates For Increasing Number of Path Generated\")\n",
    "plt.legend()\n",
    "plt.grid()\n",
    "plt.show()"
   ]
  },
  {
   "cell_type": "markdown",
   "metadata": {},
   "source": [
    "## Changing K"
   ]
  },
  {
   "cell_type": "code",
   "execution_count": null,
   "metadata": {},
   "outputs": [],
   "source": [
    "S0 = 100\n",
    "T = 1.\n",
    "N = 50\n",
    "r = 0.06\n",
    "sigma = 0.2\n",
    "M = 100_000\n",
    "\n",
    "num_samples = 100\n",
    "K_values = np.linspace(1, 200, num=num_samples, dtype=int)\n",
    "print(K_values)\n",
    "\n",
    "K_estimates_c = np.zeros(num_samples)\n",
    "K_estimates_MC = np.zeros(num_samples)\n",
    "for i in tqdm(range(num_samples)):\n",
    "    K = K_values[i]\n",
    "    K_estimates_c[i], K_estimates_MC[i] = control_variate_est(S0, r, sigma, T, N, M, K)"
   ]
  },
  {
   "cell_type": "code",
   "execution_count": null,
   "metadata": {},
   "outputs": [],
   "source": [
    "S0 = 100\n",
    "T = 1.\n",
    "N = 50\n",
    "r = 0.06\n",
    "sigma = 0.2\n",
    "M = 1000\n",
    "\n",
    "num_samples = 100\n",
    "K_values = np.linspace(1, 200, num=num_samples, dtype=int)\n",
    "print(K_values)\n",
    "\n",
    "K_estimates_c_1000 = np.zeros(num_samples)\n",
    "K_estimates_MC_1000 = np.zeros(num_samples)\n",
    "for i in tqdm(range(num_samples)):\n",
    "    K = K_values[i]\n",
    "    K_estimates_c_1000[i], K_estimates_MC_1000[i] = control_variate_est(S0, r, sigma, T, N, M, K)"
   ]
  },
  {
   "cell_type": "code",
   "execution_count": null,
   "metadata": {},
   "outputs": [],
   "source": [
    "plt.figure(figsize=(10,6), dpi=300)\n",
    "plt.plot(K_values, K_estimates_MC, label='MC Arithmetic Estimate (M = 100.000)')\n",
    "plt.plot(K_values, K_estimates_c, label='Control Variate Estimate (M = 100.000)')\n",
    "# plt.plot(K_values, K_estimates_MC_1000, label='MC Arithmetic Estimate (M = 1.000)')\n",
    "# plt.plot(K_values, K_estimates_c_1000, label='Control Variate Estimate (M = 1.000)')\n",
    "plt.xlabel(\"Strike Price K (EUR)\")\n",
    "plt.ylabel(\"Call Option Price Approximation (EUR)\")\n",
    "plt.title(\"Performance of Control Variates For Increasing Strike Prices\")\n",
    "plt.legend()\n",
    "plt.grid()\n",
    "plt.show()"
   ]
  },
  {
   "cell_type": "markdown",
   "metadata": {},
   "source": [
    "## Changing N (number of intervals) "
   ]
  },
  {
   "cell_type": "code",
   "execution_count": null,
   "metadata": {},
   "outputs": [],
   "source": [
    "S0 = 100\n",
    "T = 1.\n",
    "K = 99\n",
    "r = 0.06\n",
    "sigma = 0.2\n",
    "M = 100_000\n",
    "\n",
    "num_samples = 100\n",
    "N_values = np.linspace(1, 1000, num=num_samples, dtype=int)\n",
    "print(N_values)\n",
    "    \n",
    "N_estimates_c = np.zeros(num_samples)\n",
    "N_estimates_MC = np.zeros(num_samples)\n",
    "for i in tqdm(range(num_samples)):\n",
    "    N = N_values[i]\n",
    "    N_estimates_c[i], N_estimates_MC[i] = control_variate_est(S0, r, sigma, T, N, M, K)"
   ]
  },
  {
   "cell_type": "code",
   "execution_count": null,
   "metadata": {},
   "outputs": [],
   "source": [
    "plt.figure(figsize=(10,6), dpi=300)\n",
    "plt.plot(N_values, N_estimates_MC, label='MC Arithmetic Estimate')\n",
    "plt.plot(N_values, N_estimates_c, label='Control Variate Estimate')\n",
    "plt.xlabel(\"Number of intervals (N)\")\n",
    "plt.ylabel(\"Call Option Price Approximation (EUR)\")\n",
    "plt.title(\"Performance of Control Variates For Increasing Number of Intervals\")\n",
    "plt.legend()\n",
    "plt.grid()\n",
    "plt.show()"
   ]
  },
  {
   "cell_type": "markdown",
   "metadata": {},
   "source": [
    "## Changing Sigma/Volatility"
   ]
  },
  {
   "cell_type": "code",
   "execution_count": null,
   "metadata": {},
   "outputs": [],
   "source": [
    "S0 = 100\n",
    "T = 1.\n",
    "N = 50\n",
    "K = 99\n",
    "r = 0.06\n",
    "M = 100_000\n",
    "\n",
    "num_samples = 100\n",
    "sigma_values = np.linspace(0.01, 10, num=num_samples)\n",
    "print(sigma_values)\n",
    "\n",
    "sigma_estimates_c = np.zeros(num_samples)\n",
    "sigma_estimates_MC = np.zeros(num_samples)\n",
    "for i in tqdm(range(num_samples)):\n",
    "    sigma = sigma_values[i]\n",
    "    sigma_estimates_c[i], sigma_estimates_MC[i] = control_variate_est(S0, r, sigma, T, N, M, K)"
   ]
  },
  {
   "cell_type": "code",
   "execution_count": null,
   "metadata": {},
   "outputs": [],
   "source": [
    "plt.figure(figsize=(10,6), dpi=300)\n",
    "plt.plot(sigma_values, sigma_estimates_MC, label='MC Arithmetic Estimate')\n",
    "plt.plot(sigma_values, sigma_estimates_c, label='Control Variate Estimate')\n",
    "plt.xlabel(r\"Volatility ($\\sigma$)\")\n",
    "plt.ylabel(\"Call Option Price Approximation (EUR)\")\n",
    "plt.title(\"Performance of Control Variates For Increasing Levels of Volatility\")\n",
    "plt.yscale('log')\n",
    "plt.legend()\n",
    "plt.grid()\n",
    "plt.show()"
   ]
  },
  {
   "cell_type": "code",
   "execution_count": null,
   "metadata": {},
   "outputs": [],
   "source": []
  }
 ],
 "metadata": {
  "kernelspec": {
   "display_name": "Python 3 (ipykernel)",
   "language": "python",
   "name": "python3"
  },
  "language_info": {
   "codemirror_mode": {
    "name": "ipython",
    "version": 3
   },
   "file_extension": ".py",
   "mimetype": "text/x-python",
   "name": "python",
   "nbconvert_exporter": "python",
   "pygments_lexer": "ipython3",
   "version": "3.9.0"
  }
 },
 "nbformat": 4,
 "nbformat_minor": 1
}