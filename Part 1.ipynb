{
 "cells": [
  {
   "cell_type": "code",
   "execution_count": 2,
   "outputs": [],
   "source": [
    "import numpy as np\n",
    "import pandas as pd\n",
    "from matplotlib import pyplot as plt"
   ],
   "metadata": {
    "collapsed": false,
    "pycharm": {
     "name": "#%%\n"
    }
   }
  },
  {
   "cell_type": "markdown",
   "source": [
    "# Part 2"
   ],
   "metadata": {
    "collapsed": false
   }
  },
  {
   "cell_type": "markdown",
   "source": [
    "## Question 1\n",
    "### A matrix representation"
   ],
   "metadata": {
    "collapsed": false
   }
  },
  {
   "cell_type": "code",
   "execution_count": 124,
   "metadata": {
    "collapsed": true
   },
   "outputs": [],
   "source": [
    "def buildTree(S, vol , T, N):\n",
    "    dt = T / N\n",
    "    matrix = np.zeros((N + 1, N + 1))\n",
    "    u = np.e **  (vol * np.sqrt(dt)) # TODO\n",
    "    d = np.e ** (-vol * np.sqrt(dt)) # TODO\n",
    "\n",
    "    # Iterate over the lower triangle\n",
    "    for i in np.arange(N + 1): # iterate over rows\n",
    "        for j in np.arange(i + 1): # iterate over columns\n",
    "            # Hint: express each cell as a combination of up and down moves\n",
    "            matrix[i, j] = S * d ** (i-j) * u ** (j)\n",
    "\n",
    "    return matrix"
   ]
  },
  {
   "cell_type": "code",
   "execution_count": 125,
   "outputs": [
    {
     "name": "stdout",
     "output_type": "stream",
     "text": [
      "[[80.          0.          0.        ]\n",
      " [74.53851387 85.86165282  0.        ]\n",
      " [69.44987563 80.         92.15279281]]\n"
     ]
    }
   ],
   "source": [
    "sigma = 0.1\n",
    "S = 80\n",
    "T =1.\n",
    "N = 2\n",
    "\n",
    "print(buildTree(S, sigma, T, N))"
   ],
   "metadata": {
    "collapsed": false,
    "pycharm": {
     "name": "#%%\n"
    }
   }
  },
  {
   "cell_type": "markdown",
   "source": [
    "### Calculating the option value"
   ],
   "metadata": {
    "collapsed": false
   }
  },
  {
   "cell_type": "code",
   "execution_count": 126,
   "outputs": [],
   "source": [
    "def valueOptionMatrix(tree , T, r , K, vol ):\n",
    "    dt = T / N\n",
    "\n",
    "    u = np.e **  (vol * np.sqrt(dt)) # TODO\n",
    "    d = np.e ** (-vol * np.sqrt(dt)) # TODO\n",
    "\n",
    "    p = (np.e ** (r*dt) - d)/(u - d) # TODO\n",
    "\n",
    "    columns = tree.shape[1]\n",
    "    rows = tree.shape[0]\n",
    "\n",
    "    # Walk backward , we start in last row of the matrix\n",
    "\n",
    "    # Add the payoff function in the last row\n",
    "    for c in np.arange(columns):\n",
    "        S = tree[rows-1, c] # value in the matrix\n",
    "        tree[rows-1, c] = max(0, S - K) # TODO\n",
    "    # print( tree )\n",
    "\n",
    "    # For all other rows , we need to combine from previous rows\n",
    "    # We walk backwards , from the last row to the first row\n",
    "    for i in np.arange(rows-1)[::-1]:\n",
    "        for j in np.arange(i + 1):\n",
    "            down = tree[i+1, j]\n",
    "            up = tree[i + 1, j + 1]\n",
    "            tree[i , j ] = (np.e**(-r*dt)) * (p * up + (1 - p) * down) # TODO\n",
    "    return tree"
   ],
   "metadata": {
    "collapsed": false,
    "pycharm": {
     "name": "#%%\n"
    }
   }
  },
  {
   "cell_type": "code",
   "execution_count": 130,
   "outputs": [
    {
     "name": "stdout",
     "output_type": "stream",
     "text": [
      "Option Value = 11.546434850755071\n"
     ]
    },
    {
     "data": {
      "text/plain": "array([[ 11.54643485,   0.        ,   0.        , ...,   0.        ,\n          0.        ,   0.        ],\n       [  9.60391567,  13.40897969,   0.        , ...,   0.        ,\n          0.        ,   0.        ],\n       [  7.86799392,  11.26670021,  15.46463735, ...,   0.        ,\n          0.        ,   0.        ],\n       ...,\n       [  0.        ,   0.        ,   0.        , ..., 289.94017906,\n          0.        ,   0.        ],\n       [  0.        ,   0.        ,   0.        , ..., 278.98144103,\n        300.9727274 ,   0.        ],\n       [  0.        ,   0.        ,   0.        , ..., 268.32487093,\n        289.70286396, 312.32503788]])"
     },
     "execution_count": 130,
     "metadata": {},
     "output_type": "execute_result"
    }
   ],
   "source": [
    "sigma = 0.2\n",
    "S = 100\n",
    "T=1.\n",
    "N=50\n",
    "\n",
    "K = 99\n",
    "r = 0.06\n",
    "\n",
    "tree = buildTree(S, sigma, T, N)\n",
    "option_value_tree = valueOptionMatrix( tree , T, r , K, sigma )\n",
    "print(f'Option Value = {option_value_tree[0, 0]}')\n",
    "option_value_tree"
   ],
   "metadata": {
    "collapsed": false,
    "pycharm": {
     "name": "#%%\n"
    }
   }
  },
  {
   "cell_type": "markdown",
   "source": [
    "### Plotting"
   ],
   "metadata": {
    "collapsed": false
   }
  },
  {
   "cell_type": "code",
   "execution_count": null,
   "outputs": [],
   "source": [
    "# Play around with different ranges of N and step sizes .\n",
    "N = np.arange(1,300)\n",
    "\n",
    "# Calculate the option price for the correct parameters\n",
    "optionPriceAnalytical = 0 # TODO\n",
    "\n",
    "# calculate option price for each n in N\n",
    "for n in N:\n",
    "    treeN = buildTree (...) # TODO\n",
    "    priceApproximatedly = valueOption ( . . . ) # TODO\n",
    "\n",
    "# use matplotlib to plot the analytical value\n",
    "# and the approximated value for each n"
   ],
   "metadata": {
    "collapsed": false,
    "pycharm": {
     "name": "#%%\n"
    }
   }
  }
 ],
 "metadata": {
  "kernelspec": {
   "display_name": "Python 3",
   "language": "python",
   "name": "python3"
  },
  "language_info": {
   "codemirror_mode": {
    "name": "ipython",
    "version": 2
   },
   "file_extension": ".py",
   "mimetype": "text/x-python",
   "name": "python",
   "nbconvert_exporter": "python",
   "pygments_lexer": "ipython2",
   "version": "2.7.6"
  }
 },
 "nbformat": 4,
 "nbformat_minor": 0
}