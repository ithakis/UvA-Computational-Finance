{
 "cells": [
  {
   "cell_type": "code",
   "execution_count": 228,
   "outputs": [],
   "source": [
    "import numpy as np\n",
    "import pandas as pd\n",
    "from matplotlib import pyplot as plt\n",
    "from tqdm import tqdm\n",
    "from time import perf_counter\n",
    "import gc"
   ],
   "metadata": {
    "collapsed": false,
    "pycharm": {
     "name": "#%%\n"
    }
   }
  },
  {
   "cell_type": "markdown",
   "source": [
    "# Part 2"
   ],
   "metadata": {
    "collapsed": false
   }
  },
  {
   "cell_type": "markdown",
   "source": [
    "## Question 1\n",
    "### A matrix representation"
   ],
   "metadata": {
    "collapsed": false
   }
  },
  {
   "cell_type": "code",
   "execution_count": 124,
   "metadata": {
    "collapsed": true
   },
   "outputs": [],
   "source": [
    "def buildTree(S, vol , T, N):\n",
    "    dt = T / N\n",
    "    matrix = np.zeros((N + 1, N + 1))\n",
    "    u = np.e **  (vol * np.sqrt(dt)) # TODO\n",
    "    d = np.e ** (-vol * np.sqrt(dt)) # TODO\n",
    "\n",
    "    # Iterate over the lower triangle\n",
    "    for i in np.arange(N + 1): # iterate over rows\n",
    "        for j in np.arange(i + 1): # iterate over columns\n",
    "            # Hint: express each cell as a combination of up and down moves\n",
    "            matrix[i, j] = S * d ** (i-j) * u ** (j)\n",
    "\n",
    "    return matrix"
   ]
  },
  {
   "cell_type": "code",
   "execution_count": 125,
   "outputs": [
    {
     "name": "stdout",
     "output_type": "stream",
     "text": [
      "[[80.          0.          0.        ]\n",
      " [74.53851387 85.86165282  0.        ]\n",
      " [69.44987563 80.         92.15279281]]\n"
     ]
    }
   ],
   "source": [
    "sigma = 0.1\n",
    "S = 80\n",
    "T =1.\n",
    "N = 2\n",
    "\n",
    "print(buildTree(S, sigma, T, N))"
   ],
   "metadata": {
    "collapsed": false,
    "pycharm": {
     "name": "#%%\n"
    }
   }
  },
  {
   "cell_type": "markdown",
   "source": [
    "### Calculating the option value"
   ],
   "metadata": {
    "collapsed": false
   }
  },
  {
   "cell_type": "code",
   "execution_count": 218,
   "outputs": [],
   "source": [
    "def valueOptionMatrix(tree , T, r , K, vol, N ):\n",
    "    dt = T / N\n",
    "\n",
    "    u = np.e **  (vol * np.sqrt(dt)) # TODO\n",
    "    d = np.e ** (-vol * np.sqrt(dt)) # TODO\n",
    "\n",
    "    p = (np.e ** (r*dt) - d)/(u - d) # TODO\n",
    "\n",
    "    columns = tree.shape[1]\n",
    "    rows = tree.shape[0]\n",
    "\n",
    "    # Walk backward , we start in last row of the matrix\n",
    "\n",
    "    # Add the payoff function in the last row\n",
    "    for c in np.arange(columns):\n",
    "        S = tree[rows-1, c] # value in the matrix\n",
    "        tree[rows-1, c] = max(0, S - K) # TODO\n",
    "    # print( tree )\n",
    "\n",
    "    # For all other rows , we need to combine from previous rows\n",
    "    # We walk backwards , from the last row to the first row\n",
    "    for i in np.arange(rows-1)[::-1]:\n",
    "        for j in np.arange(i + 1):\n",
    "            down = tree[i+1, j]\n",
    "            up = tree[i + 1, j + 1]\n",
    "            tree[i , j ] = (np.e**(-r*dt)) * (p * up + (1 - p) * down) # TODO\n",
    "    return tree"
   ],
   "metadata": {
    "collapsed": false,
    "pycharm": {
     "name": "#%%\n"
    }
   }
  },
  {
   "cell_type": "code",
   "execution_count": 219,
   "outputs": [
    {
     "name": "stdout",
     "output_type": "stream",
     "text": [
      "Option Value = 11.546434850755071\n"
     ]
    },
    {
     "data": {
      "text/plain": "array([[ 11.54643485,   0.        ,   0.        , ...,   0.        ,\n          0.        ,   0.        ],\n       [  9.60391567,  13.40897969,   0.        , ...,   0.        ,\n          0.        ,   0.        ],\n       [  7.86799392,  11.26670021,  15.46463735, ...,   0.        ,\n          0.        ,   0.        ],\n       ...,\n       [  0.        ,   0.        ,   0.        , ..., 289.94017906,\n          0.        ,   0.        ],\n       [  0.        ,   0.        ,   0.        , ..., 278.98144103,\n        300.9727274 ,   0.        ],\n       [  0.        ,   0.        ,   0.        , ..., 268.32487093,\n        289.70286396, 312.32503788]])"
     },
     "execution_count": 219,
     "metadata": {},
     "output_type": "execute_result"
    }
   ],
   "source": [
    "sigma = 0.2\n",
    "S = 100\n",
    "T=1.\n",
    "N=50\n",
    "\n",
    "K = 99\n",
    "r = 0.06\n",
    "\n",
    "tree = buildTree(S, sigma, T, N)\n",
    "option_value_tree = valueOptionMatrix( tree , T, r , K, sigma, N)\n",
    "print(f'Option Value = {option_value_tree[0, 0]}')\n",
    "option_value_tree"
   ],
   "metadata": {
    "collapsed": false,
    "pycharm": {
     "name": "#%%\n"
    }
   }
  },
  {
   "cell_type": "markdown",
   "source": [
    "## Option Value Approximation Convergence"
   ],
   "metadata": {
    "collapsed": false
   }
  },
  {
   "cell_type": "code",
   "execution_count": 227,
   "outputs": [
    {
     "name": "stderr",
     "output_type": "stream",
     "text": [
      "100%|██████████| 597/597 [00:46<00:00, 12.91it/s] \n"
     ]
    }
   ],
   "source": [
    "def get_option_value(N):\n",
    "    _sigma = 0.2\n",
    "    _S = 100\n",
    "    _T=1.\n",
    "    _# N=50\n",
    "\n",
    "    _K = 99\n",
    "    _r = 0.06\n",
    "\n",
    "    _tree = buildTree(_S, _sigma, _T, N)\n",
    "    return valueOptionMatrix( _tree , _T, _r , _K, _sigma, N )[0, 0]\n",
    "\n",
    "NN = 600 ; _starting_n = 3\n",
    "values = np.zeros((NN, 3))\n",
    "for n in tqdm(range(_starting_n, NN)):\n",
    "    _st = perf_counter()\n",
    "    values[n, 0] = n\n",
    "    values[n, 1] = get_option_value(n)\n",
    "    values[n, 2] = perf_counter() - _st"
   ],
   "metadata": {
    "collapsed": false,
    "pycharm": {
     "name": "#%%\n"
    }
   }
  },
  {
   "cell_type": "code",
   "execution_count": 229,
   "outputs": [
    {
     "data": {
      "text/plain": "11.542396744755136"
     },
     "execution_count": 229,
     "metadata": {},
     "output_type": "execute_result"
    }
   ],
   "source": [
    "get_option_value(40)"
   ],
   "metadata": {
    "collapsed": false,
    "pycharm": {
     "name": "#%%\n"
    }
   }
  },
  {
   "cell_type": "code",
   "execution_count": 231,
   "outputs": [
    {
     "name": "stdout",
     "output_type": "stream",
     "text": [
      "Option Value with N(600) = 11.543449000280722\n",
      "Option Value with N(50) = 11.546990631984006\n",
      "Difference = -0.023593770547710946\n"
     ]
    },
    {
     "data": {
      "text/plain": "       Option_Value  Execution_Time\n3.0       12.105041        0.000213\n4.0       11.221167        0.000068\n5.0       11.877161        0.000082\n6.0       11.349620        0.000099\n7.0       11.779019        0.000115\n...             ...             ...\n595.0     11.543405        0.226699\n596.0     11.546752        0.231325\n597.0     11.543427        0.231849\n598.0     11.546738        0.229034\n599.0     11.543449        0.233773\n\n[597 rows x 2 columns]",
      "text/html": "<div>\n<style scoped>\n    .dataframe tbody tr th:only-of-type {\n        vertical-align: middle;\n    }\n\n    .dataframe tbody tr th {\n        vertical-align: top;\n    }\n\n    .dataframe thead th {\n        text-align: right;\n    }\n</style>\n<table border=\"1\" class=\"dataframe\">\n  <thead>\n    <tr style=\"text-align: right;\">\n      <th></th>\n      <th>Option_Value</th>\n      <th>Execution_Time</th>\n    </tr>\n  </thead>\n  <tbody>\n    <tr>\n      <th>3.0</th>\n      <td>12.105041</td>\n      <td>0.000213</td>\n    </tr>\n    <tr>\n      <th>4.0</th>\n      <td>11.221167</td>\n      <td>0.000068</td>\n    </tr>\n    <tr>\n      <th>5.0</th>\n      <td>11.877161</td>\n      <td>0.000082</td>\n    </tr>\n    <tr>\n      <th>6.0</th>\n      <td>11.349620</td>\n      <td>0.000099</td>\n    </tr>\n    <tr>\n      <th>7.0</th>\n      <td>11.779019</td>\n      <td>0.000115</td>\n    </tr>\n    <tr>\n      <th>...</th>\n      <td>...</td>\n      <td>...</td>\n    </tr>\n    <tr>\n      <th>595.0</th>\n      <td>11.543405</td>\n      <td>0.226699</td>\n    </tr>\n    <tr>\n      <th>596.0</th>\n      <td>11.546752</td>\n      <td>0.231325</td>\n    </tr>\n    <tr>\n      <th>597.0</th>\n      <td>11.543427</td>\n      <td>0.231849</td>\n    </tr>\n    <tr>\n      <th>598.0</th>\n      <td>11.546738</td>\n      <td>0.229034</td>\n    </tr>\n    <tr>\n      <th>599.0</th>\n      <td>11.543449</td>\n      <td>0.233773</td>\n    </tr>\n  </tbody>\n</table>\n<p>597 rows × 2 columns</p>\n</div>"
     },
     "execution_count": 231,
     "metadata": {},
     "output_type": "execute_result"
    },
    {
     "data": {
      "text/plain": "<Figure size 1440x288 with 2 Axes>",
      "image/png": "[encoded data removed]"
     },
     "metadata": {
      "needs_background": "light"
     },
     "output_type": "display_data"
    }
   ],
   "source": [
    "_results_df = pd.DataFrame(values[_starting_n:, 1:], columns=['Option_Value', 'Execution_Time'] , index=values[_starting_n:, 0])\n",
    "# print(_results_df)\n",
    "\n",
    "fig, ax_left = plt.subplots()\n",
    "ax_right = ax_left.twinx()\n",
    "\n",
    "_results_df.Option_Value.plot(figsize=(20,4), ylim=(8,14), ax=ax_left, xlabel='N', ylabel='Option Value', legend='Option Value - USD',\n",
    "                              title='Convergence of Option Value and Execution time, over Sub Divisions of time', grid=True)\n",
    "_results_df.Execution_Time.plot(ax=ax_right, color='orange', ylabel='Computation Time (s)', legend='Computation Time')\n",
    "\n",
    "print(f'Option Value with N({NN}) = {_results_df.iloc[-1].Option_Value}')\n",
    "print(f'Option Value with N(50) = {_results_df.iloc[49].Option_Value}')\n",
    "print(f'Difference = {_results_df.iloc[-1].Option_Value - _results_df.iloc[50].Option_Value}')\n",
    "_results_df"
   ],
   "metadata": {
    "collapsed": false,
    "pycharm": {
     "name": "#%%\n"
    }
   }
  },
  {
   "cell_type": "markdown",
   "source": [
    "### Plotting"
   ],
   "metadata": {
    "collapsed": false
   }
  },
  {
   "cell_type": "code",
   "execution_count": null,
   "outputs": [],
   "source": [
    "# Play around with different ranges of N and step sizes .\n",
    "N = np.arange(1,300)\n",
    "\n",
    "# Calculate the option price for the correct parameters\n",
    "optionPriceAnalytical = 0 # TODO\n",
    "\n",
    "# calculate option price for each n in N\n",
    "for n in N:\n",
    "    treeN = buildTree (...) # TODO\n",
    "    priceApproximatedly = valueOption ( . . . ) # TODO\n",
    "\n",
    "# use matplotlib to plot the analytical value\n",
    "# and the approximated value for each n"
   ],
   "metadata": {
    "collapsed": false,
    "pycharm": {
     "name": "#%%\n"
    }
   }
  }
 ],
 "metadata": {
  "kernelspec": {
   "display_name": "Python 3",
   "language": "python",
   "name": "python3"
  },
  "language_info": {
   "codemirror_mode": {
    "name": "ipython",
    "version": 2
   },
   "file_extension": ".py",
   "mimetype": "text/x-python",
   "name": "python",
   "nbconvert_exporter": "python",
   "pygments_lexer": "ipython2",
   "version": "2.7.6"
  }
 },
 "nbformat": 4,
 "nbformat_minor": 0
}