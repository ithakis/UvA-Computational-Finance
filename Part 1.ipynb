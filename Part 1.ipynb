{
 "cells": [
  {
   "cell_type": "code",
   "execution_count": 5,
   "outputs": [],
   "source": [
    "import numpy as np\n",
    "import pandas as pd\n",
    "from matplotlib import pyplot as plt"
   ],
   "metadata": {
    "collapsed": false,
    "pycharm": {
     "name": "#%%\n"
    }
   }
  },
  {
   "cell_type": "markdown",
   "source": [
    "# Part 2"
   ],
   "metadata": {
    "collapsed": false
   }
  },
  {
   "cell_type": "markdown",
   "source": [
    "## Question 1\n",
    "### A matrix representation"
   ],
   "metadata": {
    "collapsed": false
   }
  },
  {
   "cell_type": "code",
   "execution_count": null,
   "metadata": {
    "collapsed": true
   },
   "outputs": [],
   "source": [
    "def buildTree(S, vol , T, N):\n",
    "    dt = T / N\n",
    "    matrix = np.zeros((N + 1, N + 1))\n",
    "    u = 0 # TODO\n",
    "    d = 0 # TODO\n",
    "    # Iterate over the lower triangle\n",
    "    for i in np.arange(N + 1): # iterate over rows\n",
    "        for j in np.arange(i + 1): # iterate over columns\n",
    "            # Hint: express each cell as a combination of up and down moves\n",
    "            matrix[i, j]=0 #TODO\n",
    "    return matrix"
   ]
  },
  {
   "cell_type": "code",
   "execution_count": null,
   "outputs": [],
   "source": [
    "sigma = 0.1\n",
    "S = 80\n",
    "T=1.\n",
    "N = 2\n",
    "\n",
    "buildTree(S, sigma, T, N)"
   ],
   "metadata": {
    "collapsed": false,
    "pycharm": {
     "name": "#%%\n"
    }
   }
  },
  {
   "cell_type": "markdown",
   "source": [
    "### Calculating the option value"
   ],
   "metadata": {
    "collapsed": false
   }
  },
  {
   "cell_type": "code",
   "execution_count": null,
   "outputs": [],
   "source": [
    "def valueOptionMatrix(tree , T, r , K, vol ):\n",
    "    dt = T / N\n",
    "\n",
    "    u = 0 # TODO\n",
    "    d = 0 # TODO\n",
    "\n",
    "    p = 0 # TODO\n",
    "\n",
    "    columns = tree.shape[1]\n",
    "    rows = tree.shape[0]\n",
    "\n",
    "    # Walk backward , we start in last row of the matrix\n",
    "\n",
    "    # Add the payoff function in the last row\n",
    "    for c in np.arange(columns):\n",
    "        S = tree[rows-1, c] # value in the matrix\n",
    "        tree[rows-1, c] = 0 # TODO\n",
    "\n",
    "    # For all other rows , we need to combine from previous rows\n",
    "    # We walk backwards , from the last row to the first row\n",
    "    for i in np.arange(rows-1)[::-1]:\n",
    "        for j in np.arange(i + 1):\n",
    "            down = tree[i+1, j]\n",
    "            up = tree[i + 1, j + 1]\n",
    "            tree[i , j ] = 0 # TODO\n",
    "    return tree"
   ],
   "metadata": {
    "collapsed": false,
    "pycharm": {
     "name": "#%%\n"
    }
   }
  },
  {
   "cell_type": "code",
   "execution_count": null,
   "outputs": [],
   "source": [
    "sigma = 0.1\n",
    "S = 80\n",
    "T=1.\n",
    "N=2\n",
    "\n",
    "K = 85\n",
    "r = 0.1\n",
    "tree = buildTree(S, sigma, T, N)\n",
    "valueOptionMatrix ( tree , T, r , K, sigma )"
   ],
   "metadata": {
    "collapsed": false,
    "pycharm": {
     "name": "#%%\n"
    }
   }
  },
  {
   "cell_type": "markdown",
   "source": [
    "### Plotting"
   ],
   "metadata": {
    "collapsed": false
   }
  },
  {
   "cell_type": "code",
   "execution_count": null,
   "outputs": [],
   "source": [
    "# Play around with different ranges of N and step sizes .\n",
    "N = np.arange(1,300)\n",
    "\n",
    "# Calculate the option price for the correct parameters\n",
    "optionPriceAnalytical = 0 # TODO\n",
    "\n",
    "# calculate option price for each n in N\n",
    "for n in N:\n",
    "    treeN = buildTree (...) # TODO\n",
    "    priceApproximatedly = valueOption ( . . . ) # TODO\n",
    "\n",
    "# use matplotlib to plot the analytical value\n",
    "# and the approximated value for each n"
   ],
   "metadata": {
    "collapsed": false,
    "pycharm": {
     "name": "#%%\n"
    }
   }
  }
 ],
 "metadata": {
  "kernelspec": {
   "display_name": "Python 3",
   "language": "python",
   "name": "python3"
  },
  "language_info": {
   "codemirror_mode": {
    "name": "ipython",
    "version": 2
   },
   "file_extension": ".py",
   "mimetype": "text/x-python",
   "name": "python",
   "nbconvert_exporter": "python",
   "pygments_lexer": "ipython2",
   "version": "2.7.6"
  }
 },
 "nbformat": 4,
 "nbformat_minor": 0
}